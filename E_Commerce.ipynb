{
  "nbformat": 4,
  "nbformat_minor": 0,
  "metadata": {
    "colab": {
      "name": "E-Commerce.ipynb",
      "provenance": [],
      "collapsed_sections": [],
      "toc_visible": true,
      "authorship_tag": "ABX9TyOOLHuE1TDSmqZA/A9ceFes",
      "include_colab_link": true
    },
    "kernelspec": {
      "name": "python3",
      "display_name": "Python 3"
    },
    "language_info": {
      "name": "python"
    }
  },
  "cells": [
    {
      "cell_type": "markdown",
      "metadata": {
        "id": "view-in-github",
        "colab_type": "text"
      },
      "source": [
        "<a href=\"https://colab.research.google.com/github/Rockydedhia/pythonproject/blob/master/E_Commerce.ipynb\" target=\"_parent\"><img src=\"https://colab.research.google.com/assets/colab-badge.svg\" alt=\"Open In Colab\"/></a>"
      ]
    },
    {
      "cell_type": "code",
      "metadata": {
        "id": "hhOUZGoVOggv"
      },
      "source": [
        "import pandas as pd\n"
      ],
      "execution_count": 3,
      "outputs": []
    },
    {
      "cell_type": "code",
      "metadata": {
        "id": "s3z9Q3qUOpVQ"
      },
      "source": [
        "df=pd.read_csv(\"/content/Ecommerce.csv\",encoding= 'unicode_escape')"
      ],
      "execution_count": 4,
      "outputs": []
    },
    {
      "cell_type": "code",
      "metadata": {
        "colab": {
          "base_uri": "https://localhost:8080/",
          "height": 555
        },
        "id": "ae8NONY9RNvV",
        "outputId": "05aa5930-6216-40ef-96c3-f662957719a5"
      },
      "source": [
        "df"
      ],
      "execution_count": 5,
      "outputs": [
        {
          "output_type": "execute_result",
          "data": {
            "text/html": [
              "<div>\n",
              "<style scoped>\n",
              "    .dataframe tbody tr th:only-of-type {\n",
              "        vertical-align: middle;\n",
              "    }\n",
              "\n",
              "    .dataframe tbody tr th {\n",
              "        vertical-align: top;\n",
              "    }\n",
              "\n",
              "    .dataframe thead th {\n",
              "        text-align: right;\n",
              "    }\n",
              "</style>\n",
              "<table border=\"1\" class=\"dataframe\">\n",
              "  <thead>\n",
              "    <tr style=\"text-align: right;\">\n",
              "      <th></th>\n",
              "      <th>InvoiceNo</th>\n",
              "      <th>StockCode</th>\n",
              "      <th>Description</th>\n",
              "      <th>Quantity</th>\n",
              "      <th>InvoiceDate</th>\n",
              "      <th>UnitPrice</th>\n",
              "      <th>CustomerID</th>\n",
              "      <th>Country</th>\n",
              "    </tr>\n",
              "  </thead>\n",
              "  <tbody>\n",
              "    <tr>\n",
              "      <th>0</th>\n",
              "      <td>536365</td>\n",
              "      <td>85123A</td>\n",
              "      <td>WHITE HANGING HEART T-LIGHT HOLDER</td>\n",
              "      <td>6.0</td>\n",
              "      <td>12/1/2010 8:26</td>\n",
              "      <td>2.55</td>\n",
              "      <td>17850.0</td>\n",
              "      <td>United Kingdom</td>\n",
              "    </tr>\n",
              "    <tr>\n",
              "      <th>1</th>\n",
              "      <td>536365</td>\n",
              "      <td>71053</td>\n",
              "      <td>WHITE METAL LANTERN</td>\n",
              "      <td>6.0</td>\n",
              "      <td>12/1/2010 8:26</td>\n",
              "      <td>3.39</td>\n",
              "      <td>17850.0</td>\n",
              "      <td>United Kingdom</td>\n",
              "    </tr>\n",
              "    <tr>\n",
              "      <th>2</th>\n",
              "      <td>536365</td>\n",
              "      <td>84406B</td>\n",
              "      <td>CREAM CUPID HEARTS COAT HANGER</td>\n",
              "      <td>8.0</td>\n",
              "      <td>12/1/2010 8:26</td>\n",
              "      <td>2.75</td>\n",
              "      <td>17850.0</td>\n",
              "      <td>United Kingdom</td>\n",
              "    </tr>\n",
              "    <tr>\n",
              "      <th>3</th>\n",
              "      <td>536365</td>\n",
              "      <td>84029G</td>\n",
              "      <td>KNITTED UNION FLAG HOT WATER BOTTLE</td>\n",
              "      <td>6.0</td>\n",
              "      <td>12/1/2010 8:26</td>\n",
              "      <td>3.39</td>\n",
              "      <td>17850.0</td>\n",
              "      <td>United Kingdom</td>\n",
              "    </tr>\n",
              "    <tr>\n",
              "      <th>4</th>\n",
              "      <td>536365</td>\n",
              "      <td>84029E</td>\n",
              "      <td>RED WOOLLY HOTTIE WHITE HEART.</td>\n",
              "      <td>6.0</td>\n",
              "      <td>12/1/2010 8:26</td>\n",
              "      <td>3.39</td>\n",
              "      <td>17850.0</td>\n",
              "      <td>United Kingdom</td>\n",
              "    </tr>\n",
              "    <tr>\n",
              "      <th>...</th>\n",
              "      <td>...</td>\n",
              "      <td>...</td>\n",
              "      <td>...</td>\n",
              "      <td>...</td>\n",
              "      <td>...</td>\n",
              "      <td>...</td>\n",
              "      <td>...</td>\n",
              "      <td>...</td>\n",
              "    </tr>\n",
              "    <tr>\n",
              "      <th>276170</th>\n",
              "      <td>561034</td>\n",
              "      <td>21967</td>\n",
              "      <td>PACK OF 12 SKULL TISSUES</td>\n",
              "      <td>4.0</td>\n",
              "      <td>7/24/2011 11:45</td>\n",
              "      <td>0.29</td>\n",
              "      <td>15506.0</td>\n",
              "      <td>United Kingdom</td>\n",
              "    </tr>\n",
              "    <tr>\n",
              "      <th>276171</th>\n",
              "      <td>561034</td>\n",
              "      <td>21982</td>\n",
              "      <td>PACK OF 12 SUKI TISSUES</td>\n",
              "      <td>1.0</td>\n",
              "      <td>7/24/2011 11:45</td>\n",
              "      <td>0.29</td>\n",
              "      <td>15506.0</td>\n",
              "      <td>United Kingdom</td>\n",
              "    </tr>\n",
              "    <tr>\n",
              "      <th>276172</th>\n",
              "      <td>561034</td>\n",
              "      <td>22615</td>\n",
              "      <td>PACK OF 12 CIRCUS PARADE TISSUES</td>\n",
              "      <td>2.0</td>\n",
              "      <td>7/24/2011 11:45</td>\n",
              "      <td>0.29</td>\n",
              "      <td>15506.0</td>\n",
              "      <td>United Kingdom</td>\n",
              "    </tr>\n",
              "    <tr>\n",
              "      <th>276173</th>\n",
              "      <td>561034</td>\n",
              "      <td>22616</td>\n",
              "      <td>PACK OF 12 LONDON TISSUES</td>\n",
              "      <td>4.0</td>\n",
              "      <td>7/24/2011 11:45</td>\n",
              "      <td>0.29</td>\n",
              "      <td>15506.0</td>\n",
              "      <td>United Kingdom</td>\n",
              "    </tr>\n",
              "    <tr>\n",
              "      <th>276174</th>\n",
              "      <td>561034</td>\n",
              "      <td>21982</td>\n",
              "      <td>PACK OF 12</td>\n",
              "      <td>NaN</td>\n",
              "      <td>NaN</td>\n",
              "      <td>NaN</td>\n",
              "      <td>NaN</td>\n",
              "      <td>NaN</td>\n",
              "    </tr>\n",
              "  </tbody>\n",
              "</table>\n",
              "<p>276175 rows × 8 columns</p>\n",
              "</div>"
            ],
            "text/plain": [
              "       InvoiceNo StockCode  ... CustomerID         Country\n",
              "0         536365    85123A  ...    17850.0  United Kingdom\n",
              "1         536365     71053  ...    17850.0  United Kingdom\n",
              "2         536365    84406B  ...    17850.0  United Kingdom\n",
              "3         536365    84029G  ...    17850.0  United Kingdom\n",
              "4         536365    84029E  ...    17850.0  United Kingdom\n",
              "...          ...       ...  ...        ...             ...\n",
              "276170    561034     21967  ...    15506.0  United Kingdom\n",
              "276171    561034     21982  ...    15506.0  United Kingdom\n",
              "276172    561034     22615  ...    15506.0  United Kingdom\n",
              "276173    561034     22616  ...    15506.0  United Kingdom\n",
              "276174    561034     21982  ...        NaN             NaN\n",
              "\n",
              "[276175 rows x 8 columns]"
            ]
          },
          "metadata": {
            "tags": []
          },
          "execution_count": 5
        }
      ]
    },
    {
      "cell_type": "markdown",
      "metadata": {
        "id": "Utt3fdDJmGm7"
      },
      "source": [
        "##2. Check for missing values in all columns and replace them with the appropriate metric \n",
        "##(Mean/Median/Mode) \n"
      ]
    },
    {
      "cell_type": "code",
      "metadata": {
        "id": "9PNrOQz8_cT6",
        "colab": {
          "base_uri": "https://localhost:8080/"
        },
        "outputId": "e1c77164-97d7-49b6-db1f-29d0b89f76c8"
      },
      "source": [
        "df.isnull().sum()"
      ],
      "execution_count": 6,
      "outputs": [
        {
          "output_type": "execute_result",
          "data": {
            "text/plain": [
              "InvoiceNo          0\n",
              "StockCode          0\n",
              "Description     1007\n",
              "Quantity           1\n",
              "InvoiceDate        1\n",
              "UnitPrice          1\n",
              "CustomerID     78877\n",
              "Country            1\n",
              "dtype: int64"
            ]
          },
          "metadata": {
            "tags": []
          },
          "execution_count": 6
        }
      ]
    },
    {
      "cell_type": "code",
      "metadata": {
        "id": "WmDyiRiVMGXJ"
      },
      "source": [
        "df.dropna(subset=['Description'],inplace=True)"
      ],
      "execution_count": 7,
      "outputs": []
    },
    {
      "cell_type": "code",
      "metadata": {
        "id": "Jl-syz3lNz-x"
      },
      "source": [
        "df['CustomerID'].fillna(df['CustomerID'].median(),inplace=True)"
      ],
      "execution_count": 8,
      "outputs": []
    },
    {
      "cell_type": "code",
      "metadata": {
        "colab": {
          "base_uri": "https://localhost:8080/"
        },
        "id": "VqCV2Hr8mzSs",
        "outputId": "1015cf07-1d9a-4faa-9870-64b75c4a4a37"
      },
      "source": [
        "df.isnull().sum()"
      ],
      "execution_count": 9,
      "outputs": [
        {
          "output_type": "execute_result",
          "data": {
            "text/plain": [
              "InvoiceNo      0\n",
              "StockCode      0\n",
              "Description    0\n",
              "Quantity       1\n",
              "InvoiceDate    1\n",
              "UnitPrice      1\n",
              "CustomerID     0\n",
              "Country        1\n",
              "dtype: int64"
            ]
          },
          "metadata": {
            "tags": []
          },
          "execution_count": 9
        }
      ]
    },
    {
      "cell_type": "code",
      "metadata": {
        "colab": {
          "base_uri": "https://localhost:8080/",
          "height": 196
        },
        "id": "onZXq9_YRtc_",
        "outputId": "97107118-8c8f-45b1-f347-0a300be09a11"
      },
      "source": [
        "df.head()"
      ],
      "execution_count": 10,
      "outputs": [
        {
          "output_type": "execute_result",
          "data": {
            "text/html": [
              "<div>\n",
              "<style scoped>\n",
              "    .dataframe tbody tr th:only-of-type {\n",
              "        vertical-align: middle;\n",
              "    }\n",
              "\n",
              "    .dataframe tbody tr th {\n",
              "        vertical-align: top;\n",
              "    }\n",
              "\n",
              "    .dataframe thead th {\n",
              "        text-align: right;\n",
              "    }\n",
              "</style>\n",
              "<table border=\"1\" class=\"dataframe\">\n",
              "  <thead>\n",
              "    <tr style=\"text-align: right;\">\n",
              "      <th></th>\n",
              "      <th>InvoiceNo</th>\n",
              "      <th>StockCode</th>\n",
              "      <th>Description</th>\n",
              "      <th>Quantity</th>\n",
              "      <th>InvoiceDate</th>\n",
              "      <th>UnitPrice</th>\n",
              "      <th>CustomerID</th>\n",
              "      <th>Country</th>\n",
              "    </tr>\n",
              "  </thead>\n",
              "  <tbody>\n",
              "    <tr>\n",
              "      <th>0</th>\n",
              "      <td>536365</td>\n",
              "      <td>85123A</td>\n",
              "      <td>WHITE HANGING HEART T-LIGHT HOLDER</td>\n",
              "      <td>6.0</td>\n",
              "      <td>12/1/2010 8:26</td>\n",
              "      <td>2.55</td>\n",
              "      <td>17850.0</td>\n",
              "      <td>United Kingdom</td>\n",
              "    </tr>\n",
              "    <tr>\n",
              "      <th>1</th>\n",
              "      <td>536365</td>\n",
              "      <td>71053</td>\n",
              "      <td>WHITE METAL LANTERN</td>\n",
              "      <td>6.0</td>\n",
              "      <td>12/1/2010 8:26</td>\n",
              "      <td>3.39</td>\n",
              "      <td>17850.0</td>\n",
              "      <td>United Kingdom</td>\n",
              "    </tr>\n",
              "    <tr>\n",
              "      <th>2</th>\n",
              "      <td>536365</td>\n",
              "      <td>84406B</td>\n",
              "      <td>CREAM CUPID HEARTS COAT HANGER</td>\n",
              "      <td>8.0</td>\n",
              "      <td>12/1/2010 8:26</td>\n",
              "      <td>2.75</td>\n",
              "      <td>17850.0</td>\n",
              "      <td>United Kingdom</td>\n",
              "    </tr>\n",
              "    <tr>\n",
              "      <th>3</th>\n",
              "      <td>536365</td>\n",
              "      <td>84029G</td>\n",
              "      <td>KNITTED UNION FLAG HOT WATER BOTTLE</td>\n",
              "      <td>6.0</td>\n",
              "      <td>12/1/2010 8:26</td>\n",
              "      <td>3.39</td>\n",
              "      <td>17850.0</td>\n",
              "      <td>United Kingdom</td>\n",
              "    </tr>\n",
              "    <tr>\n",
              "      <th>4</th>\n",
              "      <td>536365</td>\n",
              "      <td>84029E</td>\n",
              "      <td>RED WOOLLY HOTTIE WHITE HEART.</td>\n",
              "      <td>6.0</td>\n",
              "      <td>12/1/2010 8:26</td>\n",
              "      <td>3.39</td>\n",
              "      <td>17850.0</td>\n",
              "      <td>United Kingdom</td>\n",
              "    </tr>\n",
              "  </tbody>\n",
              "</table>\n",
              "</div>"
            ],
            "text/plain": [
              "  InvoiceNo StockCode  ... CustomerID         Country\n",
              "0    536365    85123A  ...    17850.0  United Kingdom\n",
              "1    536365     71053  ...    17850.0  United Kingdom\n",
              "2    536365    84406B  ...    17850.0  United Kingdom\n",
              "3    536365    84029G  ...    17850.0  United Kingdom\n",
              "4    536365    84029E  ...    17850.0  United Kingdom\n",
              "\n",
              "[5 rows x 8 columns]"
            ]
          },
          "metadata": {
            "tags": []
          },
          "execution_count": 10
        }
      ]
    },
    {
      "cell_type": "code",
      "metadata": {
        "colab": {
          "base_uri": "https://localhost:8080/"
        },
        "id": "3kxKwjZaRyqp",
        "outputId": "c7f17c24-36a0-4c84-e31c-f77c0c50fe8f"
      },
      "source": [
        "df.groupby(\"CustomerID\")[\"Quantity\"].count()"
      ],
      "execution_count": 11,
      "outputs": [
        {
          "output_type": "execute_result",
          "data": {
            "text/plain": [
              "CustomerID\n",
              "12346.0      2\n",
              "12347.0    102\n",
              "12348.0     28\n",
              "12350.0     17\n",
              "12352.0     48\n",
              "          ... \n",
              "18277.0      1\n",
              "18280.0     10\n",
              "18281.0      7\n",
              "18283.0    400\n",
              "18287.0     29\n",
              "Name: Quantity, Length: 3139, dtype: int64"
            ]
          },
          "metadata": {
            "tags": []
          },
          "execution_count": 11
        }
      ]
    },
    {
      "cell_type": "markdown",
      "metadata": {
        "id": "zUHbLAGRDTjP"
      },
      "source": [
        "## **Remove duplicate rows**"
      ]
    },
    {
      "cell_type": "code",
      "metadata": {
        "id": "jkF00wFmUKvr",
        "colab": {
          "base_uri": "https://localhost:8080/",
          "height": 572
        },
        "outputId": "20a5eb32-5f9d-4a98-d0aa-91868fbb45a8"
      },
      "source": [
        "df[df.duplicated()]"
      ],
      "execution_count": 12,
      "outputs": [
        {
          "output_type": "execute_result",
          "data": {
            "text/html": [
              "<div>\n",
              "<style scoped>\n",
              "    .dataframe tbody tr th:only-of-type {\n",
              "        vertical-align: middle;\n",
              "    }\n",
              "\n",
              "    .dataframe tbody tr th {\n",
              "        vertical-align: top;\n",
              "    }\n",
              "\n",
              "    .dataframe thead th {\n",
              "        text-align: right;\n",
              "    }\n",
              "</style>\n",
              "<table border=\"1\" class=\"dataframe\">\n",
              "  <thead>\n",
              "    <tr style=\"text-align: right;\">\n",
              "      <th></th>\n",
              "      <th>InvoiceNo</th>\n",
              "      <th>StockCode</th>\n",
              "      <th>Description</th>\n",
              "      <th>Quantity</th>\n",
              "      <th>InvoiceDate</th>\n",
              "      <th>UnitPrice</th>\n",
              "      <th>CustomerID</th>\n",
              "      <th>Country</th>\n",
              "    </tr>\n",
              "  </thead>\n",
              "  <tbody>\n",
              "    <tr>\n",
              "      <th>517</th>\n",
              "      <td>536409</td>\n",
              "      <td>21866</td>\n",
              "      <td>UNION JACK FLAG LUGGAGE TAG</td>\n",
              "      <td>1.0</td>\n",
              "      <td>12/1/2010 11:45</td>\n",
              "      <td>1.25</td>\n",
              "      <td>17908.0</td>\n",
              "      <td>United Kingdom</td>\n",
              "    </tr>\n",
              "    <tr>\n",
              "      <th>527</th>\n",
              "      <td>536409</td>\n",
              "      <td>22866</td>\n",
              "      <td>HAND WARMER SCOTTY DOG DESIGN</td>\n",
              "      <td>1.0</td>\n",
              "      <td>12/1/2010 11:45</td>\n",
              "      <td>2.10</td>\n",
              "      <td>17908.0</td>\n",
              "      <td>United Kingdom</td>\n",
              "    </tr>\n",
              "    <tr>\n",
              "      <th>537</th>\n",
              "      <td>536409</td>\n",
              "      <td>22900</td>\n",
              "      <td>SET 2 TEA TOWELS I LOVE LONDON</td>\n",
              "      <td>1.0</td>\n",
              "      <td>12/1/2010 11:45</td>\n",
              "      <td>2.95</td>\n",
              "      <td>17908.0</td>\n",
              "      <td>United Kingdom</td>\n",
              "    </tr>\n",
              "    <tr>\n",
              "      <th>539</th>\n",
              "      <td>536409</td>\n",
              "      <td>22111</td>\n",
              "      <td>SCOTTIE DOG HOT WATER BOTTLE</td>\n",
              "      <td>1.0</td>\n",
              "      <td>12/1/2010 11:45</td>\n",
              "      <td>4.95</td>\n",
              "      <td>17908.0</td>\n",
              "      <td>United Kingdom</td>\n",
              "    </tr>\n",
              "    <tr>\n",
              "      <th>555</th>\n",
              "      <td>536412</td>\n",
              "      <td>22327</td>\n",
              "      <td>ROUND SNACK BOXES SET OF 4 SKULLS</td>\n",
              "      <td>1.0</td>\n",
              "      <td>12/1/2010 11:49</td>\n",
              "      <td>2.95</td>\n",
              "      <td>17920.0</td>\n",
              "      <td>United Kingdom</td>\n",
              "    </tr>\n",
              "    <tr>\n",
              "      <th>...</th>\n",
              "      <td>...</td>\n",
              "      <td>...</td>\n",
              "      <td>...</td>\n",
              "      <td>...</td>\n",
              "      <td>...</td>\n",
              "      <td>...</td>\n",
              "      <td>...</td>\n",
              "      <td>...</td>\n",
              "    </tr>\n",
              "    <tr>\n",
              "      <th>275148</th>\n",
              "      <td>560937</td>\n",
              "      <td>22538</td>\n",
              "      <td>MINI JIGSAW GO TO THE FAIR</td>\n",
              "      <td>1.0</td>\n",
              "      <td>7/22/2011 10:52</td>\n",
              "      <td>0.42</td>\n",
              "      <td>17920.0</td>\n",
              "      <td>United Kingdom</td>\n",
              "    </tr>\n",
              "    <tr>\n",
              "      <th>275149</th>\n",
              "      <td>560937</td>\n",
              "      <td>22539</td>\n",
              "      <td>MINI JIGSAW DOLLY GIRL</td>\n",
              "      <td>1.0</td>\n",
              "      <td>7/22/2011 10:52</td>\n",
              "      <td>0.42</td>\n",
              "      <td>17920.0</td>\n",
              "      <td>United Kingdom</td>\n",
              "    </tr>\n",
              "    <tr>\n",
              "      <th>275150</th>\n",
              "      <td>560937</td>\n",
              "      <td>22546</td>\n",
              "      <td>MINI JIGSAW PURDEY</td>\n",
              "      <td>1.0</td>\n",
              "      <td>7/22/2011 10:52</td>\n",
              "      <td>0.42</td>\n",
              "      <td>17920.0</td>\n",
              "      <td>United Kingdom</td>\n",
              "    </tr>\n",
              "    <tr>\n",
              "      <th>276005</th>\n",
              "      <td>561026</td>\n",
              "      <td>22094</td>\n",
              "      <td>RED RETROSPOT TISSUE BOX</td>\n",
              "      <td>1.0</td>\n",
              "      <td>7/24/2011 10:49</td>\n",
              "      <td>0.39</td>\n",
              "      <td>17265.0</td>\n",
              "      <td>United Kingdom</td>\n",
              "    </tr>\n",
              "    <tr>\n",
              "      <th>276014</th>\n",
              "      <td>561026</td>\n",
              "      <td>23091</td>\n",
              "      <td>ZINC HERB GARDEN CONTAINER</td>\n",
              "      <td>1.0</td>\n",
              "      <td>7/24/2011 10:49</td>\n",
              "      <td>6.25</td>\n",
              "      <td>17265.0</td>\n",
              "      <td>United Kingdom</td>\n",
              "    </tr>\n",
              "  </tbody>\n",
              "</table>\n",
              "<p>2223 rows × 8 columns</p>\n",
              "</div>"
            ],
            "text/plain": [
              "       InvoiceNo StockCode  ... CustomerID         Country\n",
              "517       536409     21866  ...    17908.0  United Kingdom\n",
              "527       536409     22866  ...    17908.0  United Kingdom\n",
              "537       536409     22900  ...    17908.0  United Kingdom\n",
              "539       536409     22111  ...    17908.0  United Kingdom\n",
              "555       536412     22327  ...    17920.0  United Kingdom\n",
              "...          ...       ...  ...        ...             ...\n",
              "275148    560937     22538  ...    17920.0  United Kingdom\n",
              "275149    560937     22539  ...    17920.0  United Kingdom\n",
              "275150    560937     22546  ...    17920.0  United Kingdom\n",
              "276005    561026     22094  ...    17265.0  United Kingdom\n",
              "276014    561026     23091  ...    17265.0  United Kingdom\n",
              "\n",
              "[2223 rows x 8 columns]"
            ]
          },
          "metadata": {
            "tags": []
          },
          "execution_count": 12
        }
      ]
    },
    {
      "cell_type": "code",
      "metadata": {
        "colab": {
          "base_uri": "https://localhost:8080/"
        },
        "id": "eJCxT27-AOQ5",
        "outputId": "d6374b81-949f-46b5-e702-ec9a552e01ac"
      },
      "source": [
        "df.shape"
      ],
      "execution_count": 13,
      "outputs": [
        {
          "output_type": "execute_result",
          "data": {
            "text/plain": [
              "(275168, 8)"
            ]
          },
          "metadata": {
            "tags": []
          },
          "execution_count": 13
        }
      ]
    },
    {
      "cell_type": "code",
      "metadata": {
        "id": "zJ02Ew_VAlWs"
      },
      "source": [
        "df.drop(df[df.duplicated()].index,axis=\"rows\",inplace=True)"
      ],
      "execution_count": 14,
      "outputs": []
    },
    {
      "cell_type": "code",
      "metadata": {
        "colab": {
          "base_uri": "https://localhost:8080/",
          "height": 555
        },
        "id": "qSS84i3QBgjx",
        "outputId": "1da58ee3-ef27-49bc-9d78-f60439d4c919"
      },
      "source": [
        "df"
      ],
      "execution_count": 15,
      "outputs": [
        {
          "output_type": "execute_result",
          "data": {
            "text/html": [
              "<div>\n",
              "<style scoped>\n",
              "    .dataframe tbody tr th:only-of-type {\n",
              "        vertical-align: middle;\n",
              "    }\n",
              "\n",
              "    .dataframe tbody tr th {\n",
              "        vertical-align: top;\n",
              "    }\n",
              "\n",
              "    .dataframe thead th {\n",
              "        text-align: right;\n",
              "    }\n",
              "</style>\n",
              "<table border=\"1\" class=\"dataframe\">\n",
              "  <thead>\n",
              "    <tr style=\"text-align: right;\">\n",
              "      <th></th>\n",
              "      <th>InvoiceNo</th>\n",
              "      <th>StockCode</th>\n",
              "      <th>Description</th>\n",
              "      <th>Quantity</th>\n",
              "      <th>InvoiceDate</th>\n",
              "      <th>UnitPrice</th>\n",
              "      <th>CustomerID</th>\n",
              "      <th>Country</th>\n",
              "    </tr>\n",
              "  </thead>\n",
              "  <tbody>\n",
              "    <tr>\n",
              "      <th>0</th>\n",
              "      <td>536365</td>\n",
              "      <td>85123A</td>\n",
              "      <td>WHITE HANGING HEART T-LIGHT HOLDER</td>\n",
              "      <td>6.0</td>\n",
              "      <td>12/1/2010 8:26</td>\n",
              "      <td>2.55</td>\n",
              "      <td>17850.0</td>\n",
              "      <td>United Kingdom</td>\n",
              "    </tr>\n",
              "    <tr>\n",
              "      <th>1</th>\n",
              "      <td>536365</td>\n",
              "      <td>71053</td>\n",
              "      <td>WHITE METAL LANTERN</td>\n",
              "      <td>6.0</td>\n",
              "      <td>12/1/2010 8:26</td>\n",
              "      <td>3.39</td>\n",
              "      <td>17850.0</td>\n",
              "      <td>United Kingdom</td>\n",
              "    </tr>\n",
              "    <tr>\n",
              "      <th>2</th>\n",
              "      <td>536365</td>\n",
              "      <td>84406B</td>\n",
              "      <td>CREAM CUPID HEARTS COAT HANGER</td>\n",
              "      <td>8.0</td>\n",
              "      <td>12/1/2010 8:26</td>\n",
              "      <td>2.75</td>\n",
              "      <td>17850.0</td>\n",
              "      <td>United Kingdom</td>\n",
              "    </tr>\n",
              "    <tr>\n",
              "      <th>3</th>\n",
              "      <td>536365</td>\n",
              "      <td>84029G</td>\n",
              "      <td>KNITTED UNION FLAG HOT WATER BOTTLE</td>\n",
              "      <td>6.0</td>\n",
              "      <td>12/1/2010 8:26</td>\n",
              "      <td>3.39</td>\n",
              "      <td>17850.0</td>\n",
              "      <td>United Kingdom</td>\n",
              "    </tr>\n",
              "    <tr>\n",
              "      <th>4</th>\n",
              "      <td>536365</td>\n",
              "      <td>84029E</td>\n",
              "      <td>RED WOOLLY HOTTIE WHITE HEART.</td>\n",
              "      <td>6.0</td>\n",
              "      <td>12/1/2010 8:26</td>\n",
              "      <td>3.39</td>\n",
              "      <td>17850.0</td>\n",
              "      <td>United Kingdom</td>\n",
              "    </tr>\n",
              "    <tr>\n",
              "      <th>...</th>\n",
              "      <td>...</td>\n",
              "      <td>...</td>\n",
              "      <td>...</td>\n",
              "      <td>...</td>\n",
              "      <td>...</td>\n",
              "      <td>...</td>\n",
              "      <td>...</td>\n",
              "      <td>...</td>\n",
              "    </tr>\n",
              "    <tr>\n",
              "      <th>276170</th>\n",
              "      <td>561034</td>\n",
              "      <td>21967</td>\n",
              "      <td>PACK OF 12 SKULL TISSUES</td>\n",
              "      <td>4.0</td>\n",
              "      <td>7/24/2011 11:45</td>\n",
              "      <td>0.29</td>\n",
              "      <td>15506.0</td>\n",
              "      <td>United Kingdom</td>\n",
              "    </tr>\n",
              "    <tr>\n",
              "      <th>276171</th>\n",
              "      <td>561034</td>\n",
              "      <td>21982</td>\n",
              "      <td>PACK OF 12 SUKI TISSUES</td>\n",
              "      <td>1.0</td>\n",
              "      <td>7/24/2011 11:45</td>\n",
              "      <td>0.29</td>\n",
              "      <td>15506.0</td>\n",
              "      <td>United Kingdom</td>\n",
              "    </tr>\n",
              "    <tr>\n",
              "      <th>276172</th>\n",
              "      <td>561034</td>\n",
              "      <td>22615</td>\n",
              "      <td>PACK OF 12 CIRCUS PARADE TISSUES</td>\n",
              "      <td>2.0</td>\n",
              "      <td>7/24/2011 11:45</td>\n",
              "      <td>0.29</td>\n",
              "      <td>15506.0</td>\n",
              "      <td>United Kingdom</td>\n",
              "    </tr>\n",
              "    <tr>\n",
              "      <th>276173</th>\n",
              "      <td>561034</td>\n",
              "      <td>22616</td>\n",
              "      <td>PACK OF 12 LONDON TISSUES</td>\n",
              "      <td>4.0</td>\n",
              "      <td>7/24/2011 11:45</td>\n",
              "      <td>0.29</td>\n",
              "      <td>15506.0</td>\n",
              "      <td>United Kingdom</td>\n",
              "    </tr>\n",
              "    <tr>\n",
              "      <th>276174</th>\n",
              "      <td>561034</td>\n",
              "      <td>21982</td>\n",
              "      <td>PACK OF 12</td>\n",
              "      <td>NaN</td>\n",
              "      <td>NaN</td>\n",
              "      <td>NaN</td>\n",
              "      <td>15152.0</td>\n",
              "      <td>NaN</td>\n",
              "    </tr>\n",
              "  </tbody>\n",
              "</table>\n",
              "<p>272945 rows × 8 columns</p>\n",
              "</div>"
            ],
            "text/plain": [
              "       InvoiceNo StockCode  ... CustomerID         Country\n",
              "0         536365    85123A  ...    17850.0  United Kingdom\n",
              "1         536365     71053  ...    17850.0  United Kingdom\n",
              "2         536365    84406B  ...    17850.0  United Kingdom\n",
              "3         536365    84029G  ...    17850.0  United Kingdom\n",
              "4         536365    84029E  ...    17850.0  United Kingdom\n",
              "...          ...       ...  ...        ...             ...\n",
              "276170    561034     21967  ...    15506.0  United Kingdom\n",
              "276171    561034     21982  ...    15506.0  United Kingdom\n",
              "276172    561034     22615  ...    15506.0  United Kingdom\n",
              "276173    561034     22616  ...    15506.0  United Kingdom\n",
              "276174    561034     21982  ...    15152.0             NaN\n",
              "\n",
              "[272945 rows x 8 columns]"
            ]
          },
          "metadata": {
            "tags": []
          },
          "execution_count": 15
        }
      ]
    },
    {
      "cell_type": "markdown",
      "metadata": {
        "id": "OObnYFWlDh75"
      },
      "source": [
        "## **Remove rows which have negative values in Quantity column**"
      ]
    },
    {
      "cell_type": "code",
      "metadata": {
        "id": "B5PDNpsSDlHZ"
      },
      "source": [
        "df=df[df[\"Quantity\"]>0]"
      ],
      "execution_count": 16,
      "outputs": []
    },
    {
      "cell_type": "code",
      "metadata": {
        "colab": {
          "base_uri": "https://localhost:8080/",
          "height": 572
        },
        "id": "xnbcF9VyDrwV",
        "outputId": "67a24955-5b9e-4f19-dd96-5809d50921a0"
      },
      "source": [
        "df"
      ],
      "execution_count": 17,
      "outputs": [
        {
          "output_type": "execute_result",
          "data": {
            "text/html": [
              "<div>\n",
              "<style scoped>\n",
              "    .dataframe tbody tr th:only-of-type {\n",
              "        vertical-align: middle;\n",
              "    }\n",
              "\n",
              "    .dataframe tbody tr th {\n",
              "        vertical-align: top;\n",
              "    }\n",
              "\n",
              "    .dataframe thead th {\n",
              "        text-align: right;\n",
              "    }\n",
              "</style>\n",
              "<table border=\"1\" class=\"dataframe\">\n",
              "  <thead>\n",
              "    <tr style=\"text-align: right;\">\n",
              "      <th></th>\n",
              "      <th>InvoiceNo</th>\n",
              "      <th>StockCode</th>\n",
              "      <th>Description</th>\n",
              "      <th>Quantity</th>\n",
              "      <th>InvoiceDate</th>\n",
              "      <th>UnitPrice</th>\n",
              "      <th>CustomerID</th>\n",
              "      <th>Country</th>\n",
              "    </tr>\n",
              "  </thead>\n",
              "  <tbody>\n",
              "    <tr>\n",
              "      <th>0</th>\n",
              "      <td>536365</td>\n",
              "      <td>85123A</td>\n",
              "      <td>WHITE HANGING HEART T-LIGHT HOLDER</td>\n",
              "      <td>6.0</td>\n",
              "      <td>12/1/2010 8:26</td>\n",
              "      <td>2.55</td>\n",
              "      <td>17850.0</td>\n",
              "      <td>United Kingdom</td>\n",
              "    </tr>\n",
              "    <tr>\n",
              "      <th>1</th>\n",
              "      <td>536365</td>\n",
              "      <td>71053</td>\n",
              "      <td>WHITE METAL LANTERN</td>\n",
              "      <td>6.0</td>\n",
              "      <td>12/1/2010 8:26</td>\n",
              "      <td>3.39</td>\n",
              "      <td>17850.0</td>\n",
              "      <td>United Kingdom</td>\n",
              "    </tr>\n",
              "    <tr>\n",
              "      <th>2</th>\n",
              "      <td>536365</td>\n",
              "      <td>84406B</td>\n",
              "      <td>CREAM CUPID HEARTS COAT HANGER</td>\n",
              "      <td>8.0</td>\n",
              "      <td>12/1/2010 8:26</td>\n",
              "      <td>2.75</td>\n",
              "      <td>17850.0</td>\n",
              "      <td>United Kingdom</td>\n",
              "    </tr>\n",
              "    <tr>\n",
              "      <th>3</th>\n",
              "      <td>536365</td>\n",
              "      <td>84029G</td>\n",
              "      <td>KNITTED UNION FLAG HOT WATER BOTTLE</td>\n",
              "      <td>6.0</td>\n",
              "      <td>12/1/2010 8:26</td>\n",
              "      <td>3.39</td>\n",
              "      <td>17850.0</td>\n",
              "      <td>United Kingdom</td>\n",
              "    </tr>\n",
              "    <tr>\n",
              "      <th>4</th>\n",
              "      <td>536365</td>\n",
              "      <td>84029E</td>\n",
              "      <td>RED WOOLLY HOTTIE WHITE HEART.</td>\n",
              "      <td>6.0</td>\n",
              "      <td>12/1/2010 8:26</td>\n",
              "      <td>3.39</td>\n",
              "      <td>17850.0</td>\n",
              "      <td>United Kingdom</td>\n",
              "    </tr>\n",
              "    <tr>\n",
              "      <th>...</th>\n",
              "      <td>...</td>\n",
              "      <td>...</td>\n",
              "      <td>...</td>\n",
              "      <td>...</td>\n",
              "      <td>...</td>\n",
              "      <td>...</td>\n",
              "      <td>...</td>\n",
              "      <td>...</td>\n",
              "    </tr>\n",
              "    <tr>\n",
              "      <th>276169</th>\n",
              "      <td>561034</td>\n",
              "      <td>22553</td>\n",
              "      <td>PLASTERS IN TIN SKULLS</td>\n",
              "      <td>1.0</td>\n",
              "      <td>7/24/2011 11:45</td>\n",
              "      <td>1.65</td>\n",
              "      <td>15506.0</td>\n",
              "      <td>United Kingdom</td>\n",
              "    </tr>\n",
              "    <tr>\n",
              "      <th>276170</th>\n",
              "      <td>561034</td>\n",
              "      <td>21967</td>\n",
              "      <td>PACK OF 12 SKULL TISSUES</td>\n",
              "      <td>4.0</td>\n",
              "      <td>7/24/2011 11:45</td>\n",
              "      <td>0.29</td>\n",
              "      <td>15506.0</td>\n",
              "      <td>United Kingdom</td>\n",
              "    </tr>\n",
              "    <tr>\n",
              "      <th>276171</th>\n",
              "      <td>561034</td>\n",
              "      <td>21982</td>\n",
              "      <td>PACK OF 12 SUKI TISSUES</td>\n",
              "      <td>1.0</td>\n",
              "      <td>7/24/2011 11:45</td>\n",
              "      <td>0.29</td>\n",
              "      <td>15506.0</td>\n",
              "      <td>United Kingdom</td>\n",
              "    </tr>\n",
              "    <tr>\n",
              "      <th>276172</th>\n",
              "      <td>561034</td>\n",
              "      <td>22615</td>\n",
              "      <td>PACK OF 12 CIRCUS PARADE TISSUES</td>\n",
              "      <td>2.0</td>\n",
              "      <td>7/24/2011 11:45</td>\n",
              "      <td>0.29</td>\n",
              "      <td>15506.0</td>\n",
              "      <td>United Kingdom</td>\n",
              "    </tr>\n",
              "    <tr>\n",
              "      <th>276173</th>\n",
              "      <td>561034</td>\n",
              "      <td>22616</td>\n",
              "      <td>PACK OF 12 LONDON TISSUES</td>\n",
              "      <td>4.0</td>\n",
              "      <td>7/24/2011 11:45</td>\n",
              "      <td>0.29</td>\n",
              "      <td>15506.0</td>\n",
              "      <td>United Kingdom</td>\n",
              "    </tr>\n",
              "  </tbody>\n",
              "</table>\n",
              "<p>267715 rows × 8 columns</p>\n",
              "</div>"
            ],
            "text/plain": [
              "       InvoiceNo StockCode  ... CustomerID         Country\n",
              "0         536365    85123A  ...    17850.0  United Kingdom\n",
              "1         536365     71053  ...    17850.0  United Kingdom\n",
              "2         536365    84406B  ...    17850.0  United Kingdom\n",
              "3         536365    84029G  ...    17850.0  United Kingdom\n",
              "4         536365    84029E  ...    17850.0  United Kingdom\n",
              "...          ...       ...  ...        ...             ...\n",
              "276169    561034     22553  ...    15506.0  United Kingdom\n",
              "276170    561034     21967  ...    15506.0  United Kingdom\n",
              "276171    561034     21982  ...    15506.0  United Kingdom\n",
              "276172    561034     22615  ...    15506.0  United Kingdom\n",
              "276173    561034     22616  ...    15506.0  United Kingdom\n",
              "\n",
              "[267715 rows x 8 columns]"
            ]
          },
          "metadata": {
            "tags": []
          },
          "execution_count": 17
        }
      ]
    },
    {
      "cell_type": "markdown",
      "metadata": {
        "id": "TJd2IuUtEzUi"
      },
      "source": [
        "# Add the columns - Month, Day and Hour for the invoice"
      ]
    },
    {
      "cell_type": "code",
      "metadata": {
        "colab": {
          "base_uri": "https://localhost:8080/"
        },
        "id": "3lu4XZ6hE1RN",
        "outputId": "fe8557ef-3412-4ad1-ff72-4bf0a559920b"
      },
      "source": [
        "df.info()"
      ],
      "execution_count": 18,
      "outputs": [
        {
          "output_type": "stream",
          "text": [
            "<class 'pandas.core.frame.DataFrame'>\n",
            "Int64Index: 267715 entries, 0 to 276173\n",
            "Data columns (total 8 columns):\n",
            " #   Column       Non-Null Count   Dtype  \n",
            "---  ------       --------------   -----  \n",
            " 0   InvoiceNo    267715 non-null  object \n",
            " 1   StockCode    267715 non-null  object \n",
            " 2   Description  267715 non-null  object \n",
            " 3   Quantity     267715 non-null  float64\n",
            " 4   InvoiceDate  267715 non-null  object \n",
            " 5   UnitPrice    267715 non-null  float64\n",
            " 6   CustomerID   267715 non-null  float64\n",
            " 7   Country      267715 non-null  object \n",
            "dtypes: float64(3), object(5)\n",
            "memory usage: 18.4+ MB\n"
          ],
          "name": "stdout"
        }
      ]
    },
    {
      "cell_type": "code",
      "metadata": {
        "colab": {
          "base_uri": "https://localhost:8080/"
        },
        "id": "ZHfrSGS-FaMq",
        "outputId": "a5a886cb-2547-41df-ff14-eb1dfcbb0321"
      },
      "source": [
        "df[\"InvoiceDate\"]=pd.to_datetime(df[\"InvoiceDate\"])"
      ],
      "execution_count": 19,
      "outputs": [
        {
          "output_type": "stream",
          "text": [
            "/usr/local/lib/python3.7/dist-packages/ipykernel_launcher.py:1: SettingWithCopyWarning: \n",
            "A value is trying to be set on a copy of a slice from a DataFrame.\n",
            "Try using .loc[row_indexer,col_indexer] = value instead\n",
            "\n",
            "See the caveats in the documentation: https://pandas.pydata.org/pandas-docs/stable/user_guide/indexing.html#returning-a-view-versus-a-copy\n",
            "  \"\"\"Entry point for launching an IPython kernel.\n"
          ],
          "name": "stderr"
        }
      ]
    },
    {
      "cell_type": "code",
      "metadata": {
        "colab": {
          "base_uri": "https://localhost:8080/"
        },
        "id": "i4Oywfo0FryA",
        "outputId": "0033d076-9eff-465f-c6ad-ff2613ac0345"
      },
      "source": [
        "df[\"InvoiceDate\"]"
      ],
      "execution_count": 20,
      "outputs": [
        {
          "output_type": "execute_result",
          "data": {
            "text/plain": [
              "0        2010-12-01 08:26:00\n",
              "1        2010-12-01 08:26:00\n",
              "2        2010-12-01 08:26:00\n",
              "3        2010-12-01 08:26:00\n",
              "4        2010-12-01 08:26:00\n",
              "                 ...        \n",
              "276169   2011-07-24 11:45:00\n",
              "276170   2011-07-24 11:45:00\n",
              "276171   2011-07-24 11:45:00\n",
              "276172   2011-07-24 11:45:00\n",
              "276173   2011-07-24 11:45:00\n",
              "Name: InvoiceDate, Length: 267715, dtype: datetime64[ns]"
            ]
          },
          "metadata": {
            "tags": []
          },
          "execution_count": 20
        }
      ]
    },
    {
      "cell_type": "code",
      "metadata": {
        "colab": {
          "base_uri": "https://localhost:8080/"
        },
        "id": "kaZsqsLaGEyC",
        "outputId": "b8ee5253-6c3a-4479-a1fe-368b51ebccbd"
      },
      "source": [
        "df[\"Hour\"]=df[\"InvoiceDate\"].dt.hour\n",
        "df[\"Month\"]=df[\"InvoiceDate\"].dt.month\n",
        "df[\"Day\"]=df[\"InvoiceDate\"].dt.day"
      ],
      "execution_count": 21,
      "outputs": [
        {
          "output_type": "stream",
          "text": [
            "/usr/local/lib/python3.7/dist-packages/ipykernel_launcher.py:1: SettingWithCopyWarning: \n",
            "A value is trying to be set on a copy of a slice from a DataFrame.\n",
            "Try using .loc[row_indexer,col_indexer] = value instead\n",
            "\n",
            "See the caveats in the documentation: https://pandas.pydata.org/pandas-docs/stable/user_guide/indexing.html#returning-a-view-versus-a-copy\n",
            "  \"\"\"Entry point for launching an IPython kernel.\n",
            "/usr/local/lib/python3.7/dist-packages/ipykernel_launcher.py:2: SettingWithCopyWarning: \n",
            "A value is trying to be set on a copy of a slice from a DataFrame.\n",
            "Try using .loc[row_indexer,col_indexer] = value instead\n",
            "\n",
            "See the caveats in the documentation: https://pandas.pydata.org/pandas-docs/stable/user_guide/indexing.html#returning-a-view-versus-a-copy\n",
            "  \n",
            "/usr/local/lib/python3.7/dist-packages/ipykernel_launcher.py:3: SettingWithCopyWarning: \n",
            "A value is trying to be set on a copy of a slice from a DataFrame.\n",
            "Try using .loc[row_indexer,col_indexer] = value instead\n",
            "\n",
            "See the caveats in the documentation: https://pandas.pydata.org/pandas-docs/stable/user_guide/indexing.html#returning-a-view-versus-a-copy\n",
            "  This is separate from the ipykernel package so we can avoid doing imports until\n"
          ],
          "name": "stderr"
        }
      ]
    },
    {
      "cell_type": "code",
      "metadata": {
        "colab": {
          "base_uri": "https://localhost:8080/",
          "height": 572
        },
        "id": "w3wB6h9pGUFc",
        "outputId": "265044a4-ec93-4de5-90f6-9fe144e5d7ab"
      },
      "source": [
        "df"
      ],
      "execution_count": 22,
      "outputs": [
        {
          "output_type": "execute_result",
          "data": {
            "text/html": [
              "<div>\n",
              "<style scoped>\n",
              "    .dataframe tbody tr th:only-of-type {\n",
              "        vertical-align: middle;\n",
              "    }\n",
              "\n",
              "    .dataframe tbody tr th {\n",
              "        vertical-align: top;\n",
              "    }\n",
              "\n",
              "    .dataframe thead th {\n",
              "        text-align: right;\n",
              "    }\n",
              "</style>\n",
              "<table border=\"1\" class=\"dataframe\">\n",
              "  <thead>\n",
              "    <tr style=\"text-align: right;\">\n",
              "      <th></th>\n",
              "      <th>InvoiceNo</th>\n",
              "      <th>StockCode</th>\n",
              "      <th>Description</th>\n",
              "      <th>Quantity</th>\n",
              "      <th>InvoiceDate</th>\n",
              "      <th>UnitPrice</th>\n",
              "      <th>CustomerID</th>\n",
              "      <th>Country</th>\n",
              "      <th>Hour</th>\n",
              "      <th>Month</th>\n",
              "      <th>Day</th>\n",
              "    </tr>\n",
              "  </thead>\n",
              "  <tbody>\n",
              "    <tr>\n",
              "      <th>0</th>\n",
              "      <td>536365</td>\n",
              "      <td>85123A</td>\n",
              "      <td>WHITE HANGING HEART T-LIGHT HOLDER</td>\n",
              "      <td>6.0</td>\n",
              "      <td>2010-12-01 08:26:00</td>\n",
              "      <td>2.55</td>\n",
              "      <td>17850.0</td>\n",
              "      <td>United Kingdom</td>\n",
              "      <td>8</td>\n",
              "      <td>12</td>\n",
              "      <td>1</td>\n",
              "    </tr>\n",
              "    <tr>\n",
              "      <th>1</th>\n",
              "      <td>536365</td>\n",
              "      <td>71053</td>\n",
              "      <td>WHITE METAL LANTERN</td>\n",
              "      <td>6.0</td>\n",
              "      <td>2010-12-01 08:26:00</td>\n",
              "      <td>3.39</td>\n",
              "      <td>17850.0</td>\n",
              "      <td>United Kingdom</td>\n",
              "      <td>8</td>\n",
              "      <td>12</td>\n",
              "      <td>1</td>\n",
              "    </tr>\n",
              "    <tr>\n",
              "      <th>2</th>\n",
              "      <td>536365</td>\n",
              "      <td>84406B</td>\n",
              "      <td>CREAM CUPID HEARTS COAT HANGER</td>\n",
              "      <td>8.0</td>\n",
              "      <td>2010-12-01 08:26:00</td>\n",
              "      <td>2.75</td>\n",
              "      <td>17850.0</td>\n",
              "      <td>United Kingdom</td>\n",
              "      <td>8</td>\n",
              "      <td>12</td>\n",
              "      <td>1</td>\n",
              "    </tr>\n",
              "    <tr>\n",
              "      <th>3</th>\n",
              "      <td>536365</td>\n",
              "      <td>84029G</td>\n",
              "      <td>KNITTED UNION FLAG HOT WATER BOTTLE</td>\n",
              "      <td>6.0</td>\n",
              "      <td>2010-12-01 08:26:00</td>\n",
              "      <td>3.39</td>\n",
              "      <td>17850.0</td>\n",
              "      <td>United Kingdom</td>\n",
              "      <td>8</td>\n",
              "      <td>12</td>\n",
              "      <td>1</td>\n",
              "    </tr>\n",
              "    <tr>\n",
              "      <th>4</th>\n",
              "      <td>536365</td>\n",
              "      <td>84029E</td>\n",
              "      <td>RED WOOLLY HOTTIE WHITE HEART.</td>\n",
              "      <td>6.0</td>\n",
              "      <td>2010-12-01 08:26:00</td>\n",
              "      <td>3.39</td>\n",
              "      <td>17850.0</td>\n",
              "      <td>United Kingdom</td>\n",
              "      <td>8</td>\n",
              "      <td>12</td>\n",
              "      <td>1</td>\n",
              "    </tr>\n",
              "    <tr>\n",
              "      <th>...</th>\n",
              "      <td>...</td>\n",
              "      <td>...</td>\n",
              "      <td>...</td>\n",
              "      <td>...</td>\n",
              "      <td>...</td>\n",
              "      <td>...</td>\n",
              "      <td>...</td>\n",
              "      <td>...</td>\n",
              "      <td>...</td>\n",
              "      <td>...</td>\n",
              "      <td>...</td>\n",
              "    </tr>\n",
              "    <tr>\n",
              "      <th>276169</th>\n",
              "      <td>561034</td>\n",
              "      <td>22553</td>\n",
              "      <td>PLASTERS IN TIN SKULLS</td>\n",
              "      <td>1.0</td>\n",
              "      <td>2011-07-24 11:45:00</td>\n",
              "      <td>1.65</td>\n",
              "      <td>15506.0</td>\n",
              "      <td>United Kingdom</td>\n",
              "      <td>11</td>\n",
              "      <td>7</td>\n",
              "      <td>24</td>\n",
              "    </tr>\n",
              "    <tr>\n",
              "      <th>276170</th>\n",
              "      <td>561034</td>\n",
              "      <td>21967</td>\n",
              "      <td>PACK OF 12 SKULL TISSUES</td>\n",
              "      <td>4.0</td>\n",
              "      <td>2011-07-24 11:45:00</td>\n",
              "      <td>0.29</td>\n",
              "      <td>15506.0</td>\n",
              "      <td>United Kingdom</td>\n",
              "      <td>11</td>\n",
              "      <td>7</td>\n",
              "      <td>24</td>\n",
              "    </tr>\n",
              "    <tr>\n",
              "      <th>276171</th>\n",
              "      <td>561034</td>\n",
              "      <td>21982</td>\n",
              "      <td>PACK OF 12 SUKI TISSUES</td>\n",
              "      <td>1.0</td>\n",
              "      <td>2011-07-24 11:45:00</td>\n",
              "      <td>0.29</td>\n",
              "      <td>15506.0</td>\n",
              "      <td>United Kingdom</td>\n",
              "      <td>11</td>\n",
              "      <td>7</td>\n",
              "      <td>24</td>\n",
              "    </tr>\n",
              "    <tr>\n",
              "      <th>276172</th>\n",
              "      <td>561034</td>\n",
              "      <td>22615</td>\n",
              "      <td>PACK OF 12 CIRCUS PARADE TISSUES</td>\n",
              "      <td>2.0</td>\n",
              "      <td>2011-07-24 11:45:00</td>\n",
              "      <td>0.29</td>\n",
              "      <td>15506.0</td>\n",
              "      <td>United Kingdom</td>\n",
              "      <td>11</td>\n",
              "      <td>7</td>\n",
              "      <td>24</td>\n",
              "    </tr>\n",
              "    <tr>\n",
              "      <th>276173</th>\n",
              "      <td>561034</td>\n",
              "      <td>22616</td>\n",
              "      <td>PACK OF 12 LONDON TISSUES</td>\n",
              "      <td>4.0</td>\n",
              "      <td>2011-07-24 11:45:00</td>\n",
              "      <td>0.29</td>\n",
              "      <td>15506.0</td>\n",
              "      <td>United Kingdom</td>\n",
              "      <td>11</td>\n",
              "      <td>7</td>\n",
              "      <td>24</td>\n",
              "    </tr>\n",
              "  </tbody>\n",
              "</table>\n",
              "<p>267715 rows × 11 columns</p>\n",
              "</div>"
            ],
            "text/plain": [
              "       InvoiceNo StockCode  ... Month  Day\n",
              "0         536365    85123A  ...    12    1\n",
              "1         536365     71053  ...    12    1\n",
              "2         536365    84406B  ...    12    1\n",
              "3         536365    84029G  ...    12    1\n",
              "4         536365    84029E  ...    12    1\n",
              "...          ...       ...  ...   ...  ...\n",
              "276169    561034     22553  ...     7   24\n",
              "276170    561034     21967  ...     7   24\n",
              "276171    561034     21982  ...     7   24\n",
              "276172    561034     22615  ...     7   24\n",
              "276173    561034     22616  ...     7   24\n",
              "\n",
              "[267715 rows x 11 columns]"
            ]
          },
          "metadata": {
            "tags": []
          },
          "execution_count": 22
        }
      ]
    },
    {
      "cell_type": "code",
      "metadata": {
        "colab": {
          "base_uri": "https://localhost:8080/"
        },
        "id": "TatJrNpJHD9Z",
        "outputId": "185a3ad8-adea-4d5e-a0c8-a3f81f2127f0"
      },
      "source": [
        "df.isnull().sum()"
      ],
      "execution_count": 23,
      "outputs": [
        {
          "output_type": "execute_result",
          "data": {
            "text/plain": [
              "InvoiceNo      0\n",
              "StockCode      0\n",
              "Description    0\n",
              "Quantity       0\n",
              "InvoiceDate    0\n",
              "UnitPrice      0\n",
              "CustomerID     0\n",
              "Country        0\n",
              "Hour           0\n",
              "Month          0\n",
              "Day            0\n",
              "dtype: int64"
            ]
          },
          "metadata": {
            "tags": []
          },
          "execution_count": 23
        }
      ]
    },
    {
      "cell_type": "markdown",
      "metadata": {
        "id": "3MiH-FyxJfii"
      },
      "source": [
        "# How many orders made by the customers?"
      ]
    },
    {
      "cell_type": "code",
      "metadata": {
        "colab": {
          "base_uri": "https://localhost:8080/"
        },
        "id": "8niVvP6lHQx3",
        "outputId": "f92ef422-5b45-410e-f207-607ce9cde25b"
      },
      "source": [
        "orders=df.groupby(['CustomerID'])['Quantity'].sum()\n",
        "print(orders)"
      ],
      "execution_count": 24,
      "outputs": [
        {
          "output_type": "stream",
          "text": [
            "CustomerID\n",
            "12346.0    74215.0\n",
            "12347.0     1313.0\n",
            "12348.0     2124.0\n",
            "12350.0      197.0\n",
            "12352.0      254.0\n",
            "            ...   \n",
            "18273.0       20.0\n",
            "18280.0       45.0\n",
            "18281.0       54.0\n",
            "18283.0      624.0\n",
            "18287.0      488.0\n",
            "Name: Quantity, Length: 3094, dtype: float64\n"
          ],
          "name": "stdout"
        }
      ]
    },
    {
      "cell_type": "markdown",
      "metadata": {
        "id": "fXgTA-SXJ1Kv"
      },
      "source": [
        "## TOP 5 customers with higher number of orders\n"
      ]
    },
    {
      "cell_type": "code",
      "metadata": {
        "colab": {
          "base_uri": "https://localhost:8080/"
        },
        "id": "g8BPbJTGIFsN",
        "outputId": "fa3f43b6-acdc-47b2-93b2-ca41b8f781b1"
      },
      "source": [
        "orders.head()"
      ],
      "execution_count": 25,
      "outputs": [
        {
          "output_type": "execute_result",
          "data": {
            "text/plain": [
              "CustomerID\n",
              "12346.0    74215.0\n",
              "12347.0     1313.0\n",
              "12348.0     2124.0\n",
              "12350.0      197.0\n",
              "12352.0      254.0\n",
              "Name: Quantity, dtype: float64"
            ]
          },
          "metadata": {
            "tags": []
          },
          "execution_count": 25
        }
      ]
    },
    {
      "cell_type": "markdown",
      "metadata": {
        "id": "8O2khE5gMI9w"
      },
      "source": [
        "# How much money spent by the customers? "
      ]
    },
    {
      "cell_type": "code",
      "metadata": {
        "colab": {
          "base_uri": "https://localhost:8080/"
        },
        "id": "I4LyI2xNKCRQ",
        "outputId": "f87519c3-e77e-45ed-8724-3f8687a1452a"
      },
      "source": [
        "\n",
        "Money=df.groupby(['CustomerID'])['UnitPrice'].sum()\n",
        "print(Money)"
      ],
      "execution_count": 26,
      "outputs": [
        {
          "output_type": "stream",
          "text": [
            "CustomerID\n",
            "12346.0       1.04\n",
            "12347.0     278.67\n",
            "12348.0     136.21\n",
            "12350.0      65.30\n",
            "12352.0    1043.08\n",
            "            ...   \n",
            "18273.0       2.55\n",
            "18280.0      47.65\n",
            "18281.0      39.36\n",
            "18283.0     653.58\n",
            "18287.0      56.92\n",
            "Name: UnitPrice, Length: 3094, dtype: float64\n"
          ],
          "name": "stdout"
        }
      ]
    },
    {
      "cell_type": "markdown",
      "metadata": {
        "id": "92By4bOaMMCQ"
      },
      "source": [
        "## **TOP 5 customers with highest money spent**"
      ]
    },
    {
      "cell_type": "code",
      "metadata": {
        "colab": {
          "base_uri": "https://localhost:8080/"
        },
        "id": "CnxpWUAaMEre",
        "outputId": "aca10cec-cd91-4fff-8fbe-de05e3b57bea"
      },
      "source": [
        "Money.sort_values(ascending = False).head()\n"
      ],
      "execution_count": 27,
      "outputs": [
        {
          "output_type": "execute_result",
          "data": {
            "text/plain": [
              "CustomerID\n",
              "15152.0    479137.92\n",
              "14911.0     13000.60\n",
              "17841.0      8459.22\n",
              "16029.0      8458.53\n",
              "12744.0      6712.57\n",
              "Name: UnitPrice, dtype: float64"
            ]
          },
          "metadata": {
            "tags": []
          },
          "execution_count": 27
        }
      ]
    },
    {
      "cell_type": "markdown",
      "metadata": {
        "id": "V2AGdzoFZRc8"
      },
      "source": [
        "## How many orders per month? "
      ]
    },
    {
      "cell_type": "code",
      "metadata": {
        "colab": {
          "base_uri": "https://localhost:8080/"
        },
        "id": "Qgbmk0GlMn9d",
        "outputId": "ad5e07a3-1ec8-42ca-cdea-9c54644f2d7a"
      },
      "source": [
        "\n",
        "Per_month=df.groupby(['Month'])['Quantity'].sum().reset_index(name ='Total_Order_Per_Month')\n",
        "print(Per_month)"
      ],
      "execution_count": 28,
      "outputs": [
        {
          "output_type": "stream",
          "text": [
            "   Month  Total_Order_Per_Month\n",
            "0      1               387366.0\n",
            "1      2               283041.0\n",
            "2      3               380158.0\n",
            "3      4               309418.0\n",
            "4      5               397099.0\n",
            "5      6               392822.0\n",
            "6      7               284415.0\n",
            "7     12               359209.0\n"
          ],
          "name": "stdout"
        }
      ]
    },
    {
      "cell_type": "markdown",
      "metadata": {
        "id": "QVnHVpJOaOA1"
      },
      "source": [
        "## How many orders per day? \n"
      ]
    },
    {
      "cell_type": "code",
      "metadata": {
        "colab": {
          "base_uri": "https://localhost:8080/"
        },
        "id": "GrdkMVLxZiyq",
        "outputId": "9abb9863-b8ae-4ab6-a7c1-4a8af0d178fa"
      },
      "source": [
        "\n",
        "Per_Day=df.groupby(['Day'])['Quantity'].sum().reset_index(name ='Total_Order_Per_Day')\n",
        "print(Per_Day)"
      ],
      "execution_count": 29,
      "outputs": [
        {
          "output_type": "stream",
          "text": [
            "    Day  Total_Order_Per_Day\n",
            "0     1              95685.0\n",
            "1     2              64168.0\n",
            "2     3              80862.0\n",
            "3     4              81952.0\n",
            "4     5             104495.0\n",
            "5     6             109988.0\n",
            "6     7             114678.0\n",
            "7     8             105251.0\n",
            "8     9              95668.0\n",
            "9    10             101809.0\n",
            "10   11              97416.0\n",
            "11   12              97643.0\n",
            "12   13              94856.0\n",
            "13   14             127806.0\n",
            "14   15             105636.0\n",
            "15   16              99251.0\n",
            "16   17             123682.0\n",
            "17   18             171477.0\n",
            "18   19              98070.0\n",
            "19   20             113524.0\n",
            "20   21             115152.0\n",
            "21   22              80387.0\n",
            "22   23              71943.0\n",
            "23   24              71325.0\n",
            "24   25              54656.0\n",
            "25   26              47090.0\n",
            "26   27              64974.0\n",
            "27   28              67224.0\n",
            "28   29              48940.0\n",
            "29   30              45958.0\n",
            "30   31              41962.0\n"
          ],
          "name": "stdout"
        }
      ]
    },
    {
      "cell_type": "markdown",
      "metadata": {
        "id": "1uvtMcC-aeYG"
      },
      "source": [
        "## **How many orders per hour?**"
      ]
    },
    {
      "cell_type": "code",
      "metadata": {
        "colab": {
          "base_uri": "https://localhost:8080/"
        },
        "id": "lfiCNyJyZp2E",
        "outputId": "16f491b1-5840-4654-9a08-fa1736f7302f"
      },
      "source": [
        "\n",
        "Per_Hour=df.groupby(['Hour'])['Quantity'].sum().reset_index(name ='Total_Order_Per_Day')\n",
        "print(Per_Hour)"
      ],
      "execution_count": 30,
      "outputs": [
        {
          "output_type": "stream",
          "text": [
            "    Hour  Total_Order_Per_Day\n",
            "0      7               5832.0\n",
            "1      8              77756.0\n",
            "2      9             237061.0\n",
            "3     10             451254.0\n",
            "4     11             350312.0\n",
            "5     12             409844.0\n",
            "6     13             362540.0\n",
            "7     14             292159.0\n",
            "8     15             305592.0\n",
            "9     16             162808.0\n",
            "10    17              80310.0\n",
            "11    18              31336.0\n",
            "12    19              23820.0\n",
            "13    20               2904.0\n"
          ],
          "name": "stdout"
        }
      ]
    },
    {
      "cell_type": "markdown",
      "metadata": {
        "id": "Ixz7z6_Ybbmb"
      },
      "source": [
        "# How many orders for each country"
      ]
    },
    {
      "cell_type": "code",
      "metadata": {
        "colab": {
          "base_uri": "https://localhost:8080/"
        },
        "id": "SS_1NECJal2R",
        "outputId": "811ddb36-459b-4c2a-aac7-ca3944603e72"
      },
      "source": [
        "\n",
        "Per_Country=df.groupby(['Country'])['Quantity'].sum().reset_index(name ='Total_Order_Per_Day')\n",
        "print(Per_Country)"
      ],
      "execution_count": 31,
      "outputs": [
        {
          "output_type": "stream",
          "text": [
            "                 Country  Total_Order_Per_Day\n",
            "0              Australia              55537.0\n",
            "1                Austria               2262.0\n",
            "2                Bahrain                314.0\n",
            "3                Belgium              11368.0\n",
            "4                 Brazil                356.0\n",
            "5                 Canada               2711.0\n",
            "6        Channel Islands               4535.0\n",
            "7                 Cyprus               4612.0\n",
            "8         Czech Republic                346.0\n",
            "9                Denmark               3469.0\n",
            "10                  EIRE              66663.0\n",
            "11    European Community                499.0\n",
            "12               Finland               6944.0\n",
            "13                France              55005.0\n",
            "14               Germany              61570.0\n",
            "15                Greece               1321.0\n",
            "16             Hong Kong               3593.0\n",
            "17               Iceland               1313.0\n",
            "18                Israel               1049.0\n",
            "19                 Italy               3190.0\n",
            "20                 Japan              18170.0\n",
            "21               Lebanon                386.0\n",
            "22             Lithuania                652.0\n",
            "23                 Malta                402.0\n",
            "24           Netherlands              99901.0\n",
            "25                Norway               6628.0\n",
            "26                Poland               2304.0\n",
            "27              Portugal               8385.0\n",
            "28          Saudi Arabia                 80.0\n",
            "29             Singapore               4640.0\n",
            "30                 Spain              14208.0\n",
            "31                Sweden              19497.0\n",
            "32           Switzerland              13550.0\n",
            "33                   USA                137.0\n",
            "34  United Arab Emirates                496.0\n",
            "35        United Kingdom            2315538.0\n",
            "36           Unspecified               1897.0\n"
          ],
          "name": "stdout"
        }
      ]
    },
    {
      "cell_type": "markdown",
      "metadata": {
        "id": "ZF50I3rmnanQ"
      },
      "source": [
        "##Orders trend across months"
      ]
    },
    {
      "cell_type": "code",
      "metadata": {
        "colab": {
          "base_uri": "https://localhost:8080/"
        },
        "id": "Wj3hlojuHy7F",
        "outputId": "018b1a0e-369b-4b33-be54-6ba35818d7e1"
      },
      "source": [
        "Per_Month=df.groupby(['Month'])['Quantity'].sum().reset_index(name ='Total_Order_Per_Month')\n",
        "print(Per_Month)"
      ],
      "execution_count": 32,
      "outputs": [
        {
          "output_type": "stream",
          "text": [
            "   Month  Total_Order_Per_Month\n",
            "0      1               387366.0\n",
            "1      2               283041.0\n",
            "2      3               380158.0\n",
            "3      4               309418.0\n",
            "4      5               397099.0\n",
            "5      6               392822.0\n",
            "6      7               284415.0\n",
            "7     12               359209.0\n"
          ],
          "name": "stdout"
        }
      ]
    },
    {
      "cell_type": "markdown",
      "metadata": {
        "id": "Has3v3munqWu"
      },
      "source": [
        "##How much money spent by each country?"
      ]
    },
    {
      "cell_type": "code",
      "metadata": {
        "colab": {
          "base_uri": "https://localhost:8080/"
        },
        "id": "Kjnx6lW-cC66",
        "outputId": "9db52d92-45ed-4c3c-95aa-8860a960d9fd"
      },
      "source": [
        "\n",
        "Money_spend_ctry=df.groupby(['Country'])['UnitPrice'].sum().reset_index(name ='Total_Money_By_each_county')\n",
        "print(Money_spend_ctry)"
      ],
      "execution_count": 33,
      "outputs": [
        {
          "output_type": "stream",
          "text": [
            "                 Country  Total_Money_By_each_county\n",
            "0              Australia                 2576.870000\n",
            "1                Austria                  797.560000\n",
            "2                Bahrain                   82.760000\n",
            "3                Belgium                 3447.170000\n",
            "4                 Brazil                  142.600000\n",
            "5                 Canada                  905.590000\n",
            "6        Channel Islands                 1914.680000\n",
            "7                 Cyprus                 2220.080000\n",
            "8         Czech Republic                   28.890000\n",
            "9                Denmark                  644.250000\n",
            "10                  EIRE                21829.030000\n",
            "11    European Community                  289.800000\n",
            "12               Finland                 1863.510000\n",
            "13                France                14653.680000\n",
            "14               Germany                16763.910000\n",
            "15                Greece                  499.930000\n",
            "16             Hong Kong                 3136.330000\n",
            "17               Iceland                  278.670000\n",
            "18                Israel                  205.100000\n",
            "19                 Italy                 1175.420000\n",
            "20                 Japan                  448.550000\n",
            "21               Lebanon                  242.440000\n",
            "22             Lithuania                   99.440000\n",
            "23                 Malta                  167.260000\n",
            "24           Netherlands                 3134.420000\n",
            "25                Norway                 3036.910000\n",
            "26                Poland                  886.590000\n",
            "27              Portugal                 5797.670000\n",
            "28          Saudi Arabia                   21.160000\n",
            "29             Singapore                 6712.570000\n",
            "30                 Spain                 5021.120000\n",
            "31                Sweden                  788.200000\n",
            "32           Switzerland                 2911.290000\n",
            "33                   USA                   74.200000\n",
            "34  United Arab Emirates                   77.570000\n",
            "35        United Kingdom               994386.300999\n",
            "36           Unspecified                  425.800000\n"
          ],
          "name": "stdout"
        }
      ]
    },
    {
      "cell_type": "code",
      "metadata": {
        "id": "TgqDTQPTcnBO",
        "colab": {
          "base_uri": "https://localhost:8080/",
          "height": 404
        },
        "outputId": "df841c00-e3a4-49cc-d726-e93b0071f1f7"
      },
      "source": [
        "df1=df._get_numeric_data()\n",
        "df1"
      ],
      "execution_count": 79,
      "outputs": [
        {
          "output_type": "execute_result",
          "data": {
            "text/html": [
              "<div>\n",
              "<style scoped>\n",
              "    .dataframe tbody tr th:only-of-type {\n",
              "        vertical-align: middle;\n",
              "    }\n",
              "\n",
              "    .dataframe tbody tr th {\n",
              "        vertical-align: top;\n",
              "    }\n",
              "\n",
              "    .dataframe thead th {\n",
              "        text-align: right;\n",
              "    }\n",
              "</style>\n",
              "<table border=\"1\" class=\"dataframe\">\n",
              "  <thead>\n",
              "    <tr style=\"text-align: right;\">\n",
              "      <th></th>\n",
              "      <th>Quantity</th>\n",
              "      <th>UnitPrice</th>\n",
              "      <th>CustomerID</th>\n",
              "      <th>Hour</th>\n",
              "      <th>Month</th>\n",
              "      <th>Day</th>\n",
              "    </tr>\n",
              "  </thead>\n",
              "  <tbody>\n",
              "    <tr>\n",
              "      <th>0</th>\n",
              "      <td>6.0</td>\n",
              "      <td>2.55</td>\n",
              "      <td>17850.0</td>\n",
              "      <td>8</td>\n",
              "      <td>12</td>\n",
              "      <td>1</td>\n",
              "    </tr>\n",
              "    <tr>\n",
              "      <th>1</th>\n",
              "      <td>6.0</td>\n",
              "      <td>3.39</td>\n",
              "      <td>17850.0</td>\n",
              "      <td>8</td>\n",
              "      <td>12</td>\n",
              "      <td>1</td>\n",
              "    </tr>\n",
              "    <tr>\n",
              "      <th>2</th>\n",
              "      <td>8.0</td>\n",
              "      <td>2.75</td>\n",
              "      <td>17850.0</td>\n",
              "      <td>8</td>\n",
              "      <td>12</td>\n",
              "      <td>1</td>\n",
              "    </tr>\n",
              "    <tr>\n",
              "      <th>3</th>\n",
              "      <td>6.0</td>\n",
              "      <td>3.39</td>\n",
              "      <td>17850.0</td>\n",
              "      <td>8</td>\n",
              "      <td>12</td>\n",
              "      <td>1</td>\n",
              "    </tr>\n",
              "    <tr>\n",
              "      <th>4</th>\n",
              "      <td>6.0</td>\n",
              "      <td>3.39</td>\n",
              "      <td>17850.0</td>\n",
              "      <td>8</td>\n",
              "      <td>12</td>\n",
              "      <td>1</td>\n",
              "    </tr>\n",
              "    <tr>\n",
              "      <th>...</th>\n",
              "      <td>...</td>\n",
              "      <td>...</td>\n",
              "      <td>...</td>\n",
              "      <td>...</td>\n",
              "      <td>...</td>\n",
              "      <td>...</td>\n",
              "    </tr>\n",
              "    <tr>\n",
              "      <th>276169</th>\n",
              "      <td>1.0</td>\n",
              "      <td>1.65</td>\n",
              "      <td>15506.0</td>\n",
              "      <td>11</td>\n",
              "      <td>7</td>\n",
              "      <td>24</td>\n",
              "    </tr>\n",
              "    <tr>\n",
              "      <th>276170</th>\n",
              "      <td>4.0</td>\n",
              "      <td>0.29</td>\n",
              "      <td>15506.0</td>\n",
              "      <td>11</td>\n",
              "      <td>7</td>\n",
              "      <td>24</td>\n",
              "    </tr>\n",
              "    <tr>\n",
              "      <th>276171</th>\n",
              "      <td>1.0</td>\n",
              "      <td>0.29</td>\n",
              "      <td>15506.0</td>\n",
              "      <td>11</td>\n",
              "      <td>7</td>\n",
              "      <td>24</td>\n",
              "    </tr>\n",
              "    <tr>\n",
              "      <th>276172</th>\n",
              "      <td>2.0</td>\n",
              "      <td>0.29</td>\n",
              "      <td>15506.0</td>\n",
              "      <td>11</td>\n",
              "      <td>7</td>\n",
              "      <td>24</td>\n",
              "    </tr>\n",
              "    <tr>\n",
              "      <th>276173</th>\n",
              "      <td>4.0</td>\n",
              "      <td>0.29</td>\n",
              "      <td>15506.0</td>\n",
              "      <td>11</td>\n",
              "      <td>7</td>\n",
              "      <td>24</td>\n",
              "    </tr>\n",
              "  </tbody>\n",
              "</table>\n",
              "<p>267715 rows × 6 columns</p>\n",
              "</div>"
            ],
            "text/plain": [
              "        Quantity  UnitPrice  CustomerID  Hour  Month  Day\n",
              "0            6.0       2.55     17850.0     8     12    1\n",
              "1            6.0       3.39     17850.0     8     12    1\n",
              "2            8.0       2.75     17850.0     8     12    1\n",
              "3            6.0       3.39     17850.0     8     12    1\n",
              "4            6.0       3.39     17850.0     8     12    1\n",
              "...          ...        ...         ...   ...    ...  ...\n",
              "276169       1.0       1.65     15506.0    11      7   24\n",
              "276170       4.0       0.29     15506.0    11      7   24\n",
              "276171       1.0       0.29     15506.0    11      7   24\n",
              "276172       2.0       0.29     15506.0    11      7   24\n",
              "276173       4.0       0.29     15506.0    11      7   24\n",
              "\n",
              "[267715 rows x 6 columns]"
            ]
          },
          "metadata": {
            "tags": []
          },
          "execution_count": 79
        }
      ]
    },
    {
      "cell_type": "code",
      "metadata": {
        "colab": {
          "base_uri": "https://localhost:8080/",
          "height": 47
        },
        "id": "SLJx_a2WKDcd",
        "outputId": "54ea1fc7-32c6-43a1-b0ce-3d6e1505a8b9"
      },
      "source": [
        "df[df.isnull().any(axis=1)]"
      ],
      "execution_count": 35,
      "outputs": [
        {
          "output_type": "execute_result",
          "data": {
            "text/html": [
              "<div>\n",
              "<style scoped>\n",
              "    .dataframe tbody tr th:only-of-type {\n",
              "        vertical-align: middle;\n",
              "    }\n",
              "\n",
              "    .dataframe tbody tr th {\n",
              "        vertical-align: top;\n",
              "    }\n",
              "\n",
              "    .dataframe thead th {\n",
              "        text-align: right;\n",
              "    }\n",
              "</style>\n",
              "<table border=\"1\" class=\"dataframe\">\n",
              "  <thead>\n",
              "    <tr style=\"text-align: right;\">\n",
              "      <th></th>\n",
              "      <th>InvoiceNo</th>\n",
              "      <th>StockCode</th>\n",
              "      <th>Description</th>\n",
              "      <th>Quantity</th>\n",
              "      <th>InvoiceDate</th>\n",
              "      <th>UnitPrice</th>\n",
              "      <th>CustomerID</th>\n",
              "      <th>Country</th>\n",
              "      <th>Hour</th>\n",
              "      <th>Month</th>\n",
              "      <th>Day</th>\n",
              "    </tr>\n",
              "  </thead>\n",
              "  <tbody>\n",
              "  </tbody>\n",
              "</table>\n",
              "</div>"
            ],
            "text/plain": [
              "Empty DataFrame\n",
              "Columns: [InvoiceNo, StockCode, Description, Quantity, InvoiceDate, UnitPrice, CustomerID, Country, Hour, Month, Day]\n",
              "Index: []"
            ]
          },
          "metadata": {
            "tags": []
          },
          "execution_count": 35
        }
      ]
    },
    {
      "cell_type": "code",
      "metadata": {
        "colab": {
          "base_uri": "https://localhost:8080/",
          "height": 1000
        },
        "id": "9r3nVtW0KIwl",
        "outputId": "f6f77278-7b10-4f64-fb7f-0b4f6be054cb"
      },
      "source": [
        "import matplotlib.pyplot as plt\n",
        "\n",
        "for column in df1:\n",
        "    plt.figure()\n",
        "    df.boxplot([column])"
      ],
      "execution_count": 36,
      "outputs": [
        {
          "output_type": "display_data",
          "data": {
            "image/png": "[encoded data removed]",
            "text/plain": [
              "<Figure size 432x288 with 1 Axes>"
            ]
          },
          "metadata": {
            "tags": [],
            "needs_background": "light"
          }
        },
        {
          "output_type": "display_data",
          "data": {
            "image/png": "[encoded data removed]",
            "text/plain": [
              "<Figure size 432x288 with 1 Axes>"
            ]
          },
          "metadata": {
            "tags": [],
            "needs_background": "light"
          }
        },
        {
          "output_type": "display_data",
          "data": {
            "image/png": "[encoded data removed]",
            "text/plain": [
              "<Figure size 432x288 with 1 Axes>"
            ]
          },
          "metadata": {
            "tags": [],
            "needs_background": "light"
          }
        },
        {
          "output_type": "display_data",
          "data": {
            "image/png": "[encoded data removed]",
            "text/plain": [
              "<Figure size 432x288 with 1 Axes>"
            ]
          },
          "metadata": {
            "tags": [],
            "needs_background": "light"
          }
        },
        {
          "output_type": "display_data",
          "data": {
            "image/png": "[encoded data removed]",
            "text/plain": [
              "<Figure size 432x288 with 1 Axes>"
            ]
          },
          "metadata": {
            "tags": [],
            "needs_background": "light"
          }
        },
        {
          "output_type": "display_data",
          "data": {
            "image/png": "[encoded data removed]",
            "text/plain": [
              "<Figure size 432x288 with 1 Axes>"
            ]
          },
          "metadata": {
            "tags": [],
            "needs_background": "light"
          }
        }
      ]
    },
    {
      "cell_type": "code",
      "metadata": {
        "colab": {
          "base_uri": "https://localhost:8080/"
        },
        "id": "UUyupY8JKi2V",
        "outputId": "8070fa9d-be02-449a-fd42-53af23832f62"
      },
      "source": [
        "df.info()"
      ],
      "execution_count": 37,
      "outputs": [
        {
          "output_type": "stream",
          "text": [
            "<class 'pandas.core.frame.DataFrame'>\n",
            "Int64Index: 267715 entries, 0 to 276173\n",
            "Data columns (total 11 columns):\n",
            " #   Column       Non-Null Count   Dtype         \n",
            "---  ------       --------------   -----         \n",
            " 0   InvoiceNo    267715 non-null  object        \n",
            " 1   StockCode    267715 non-null  object        \n",
            " 2   Description  267715 non-null  object        \n",
            " 3   Quantity     267715 non-null  float64       \n",
            " 4   InvoiceDate  267715 non-null  datetime64[ns]\n",
            " 5   UnitPrice    267715 non-null  float64       \n",
            " 6   CustomerID   267715 non-null  float64       \n",
            " 7   Country      267715 non-null  object        \n",
            " 8   Hour         267715 non-null  int64         \n",
            " 9   Month        267715 non-null  int64         \n",
            " 10  Day          267715 non-null  int64         \n",
            "dtypes: datetime64[ns](1), float64(3), int64(3), object(4)\n",
            "memory usage: 24.5+ MB\n"
          ],
          "name": "stdout"
        }
      ]
    },
    {
      "cell_type": "code",
      "metadata": {
        "colab": {
          "base_uri": "https://localhost:8080/",
          "height": 1000
        },
        "id": "MN1FmuAMKmpa",
        "outputId": "324050f2-6be5-4198-e2f0-681d52d3e055"
      },
      "source": [
        "for column in df1:\n",
        "    plt.figure()\n",
        "    df.hist([column])"
      ],
      "execution_count": 38,
      "outputs": [
        {
          "output_type": "display_data",
          "data": {
            "text/plain": [
              "<Figure size 432x288 with 0 Axes>"
            ]
          },
          "metadata": {
            "tags": []
          }
        },
        {
          "output_type": "display_data",
          "data": {
            "image/png": "[encoded data removed]",
            "text/plain": [
              "<Figure size 432x288 with 1 Axes>"
            ]
          },
          "metadata": {
            "tags": [],
            "needs_background": "light"
          }
        },
        {
          "output_type": "display_data",
          "data": {
            "text/plain": [
              "<Figure size 432x288 with 0 Axes>"
            ]
          },
          "metadata": {
            "tags": []
          }
        },
        {
          "output_type": "display_data",
          "data": {
            "image/png": "[encoded data removed]",
            "text/plain": [
              "<Figure size 432x288 with 1 Axes>"
            ]
          },
          "metadata": {
            "tags": [],
            "needs_background": "light"
          }
        },
        {
          "output_type": "display_data",
          "data": {
            "text/plain": [
              "<Figure size 432x288 with 0 Axes>"
            ]
          },
          "metadata": {
            "tags": []
          }
        },
        {
          "output_type": "display_data",
          "data": {
            "image/png": "[encoded data removed]",
            "text/plain": [
              "<Figure size 432x288 with 1 Axes>"
            ]
          },
          "metadata": {
            "tags": [],
            "needs_background": "light"
          }
        },
        {
          "output_type": "display_data",
          "data": {
            "text/plain": [
              "<Figure size 432x288 with 0 Axes>"
            ]
          },
          "metadata": {
            "tags": []
          }
        },
        {
          "output_type": "display_data",
          "data": {
            "image/png": "[encoded data removed]",
            "text/plain": [
              "<Figure size 432x288 with 1 Axes>"
            ]
          },
          "metadata": {
            "tags": [],
            "needs_background": "light"
          }
        },
        {
          "output_type": "display_data",
          "data": {
            "text/plain": [
              "<Figure size 432x288 with 0 Axes>"
            ]
          },
          "metadata": {
            "tags": []
          }
        },
        {
          "output_type": "display_data",
          "data": {
            "image/png": "[encoded data removed]",
            "text/plain": [
              "<Figure size 432x288 with 1 Axes>"
            ]
          },
          "metadata": {
            "tags": [],
            "needs_background": "light"
          }
        },
        {
          "output_type": "display_data",
          "data": {
            "text/plain": [
              "<Figure size 432x288 with 0 Axes>"
            ]
          },
          "metadata": {
            "tags": []
          }
        },
        {
          "output_type": "display_data",
          "data": {
            "image/png": "[encoded data removed]",
            "text/plain": [
              "<Figure size 432x288 with 1 Axes>"
            ]
          },
          "metadata": {
            "tags": [],
            "needs_background": "light"
          }
        }
      ]
    },
    {
      "cell_type": "code",
      "metadata": {
        "colab": {
          "base_uri": "https://localhost:8080/",
          "height": 329
        },
        "id": "ydR8YKUMLP4R",
        "outputId": "0fd2bde7-0374-4aaf-b919-cf45eec92611"
      },
      "source": [
        "\n",
        "\n",
        "for column in df1:\n",
        "    plt.figure()\n",
        "    df.distplot([column])"
      ],
      "execution_count": 40,
      "outputs": [
        {
          "output_type": "error",
          "ename": "AttributeError",
          "evalue": "ignored",
          "traceback": [
            "\u001b[0;31m---------------------------------------------------------------------------\u001b[0m",
            "\u001b[0;31mAttributeError\u001b[0m                            Traceback (most recent call last)",
            "\u001b[0;32m<ipython-input-40-44ec51523336>\u001b[0m in \u001b[0;36m<module>\u001b[0;34m()\u001b[0m\n\u001b[1;32m      3\u001b[0m \u001b[0;32mfor\u001b[0m \u001b[0mcolumn\u001b[0m \u001b[0;32min\u001b[0m \u001b[0mdf1\u001b[0m\u001b[0;34m:\u001b[0m\u001b[0;34m\u001b[0m\u001b[0;34m\u001b[0m\u001b[0m\n\u001b[1;32m      4\u001b[0m     \u001b[0mplt\u001b[0m\u001b[0;34m.\u001b[0m\u001b[0mfigure\u001b[0m\u001b[0;34m(\u001b[0m\u001b[0;34m)\u001b[0m\u001b[0;34m\u001b[0m\u001b[0;34m\u001b[0m\u001b[0m\n\u001b[0;32m----> 5\u001b[0;31m     \u001b[0mdf\u001b[0m\u001b[0;34m.\u001b[0m\u001b[0mdistplot\u001b[0m\u001b[0;34m(\u001b[0m\u001b[0;34m[\u001b[0m\u001b[0mcolumn\u001b[0m\u001b[0;34m]\u001b[0m\u001b[0;34m)\u001b[0m\u001b[0;34m\u001b[0m\u001b[0;34m\u001b[0m\u001b[0m\n\u001b[0m",
            "\u001b[0;32m/usr/local/lib/python3.7/dist-packages/pandas/core/generic.py\u001b[0m in \u001b[0;36m__getattr__\u001b[0;34m(self, name)\u001b[0m\n\u001b[1;32m   5139\u001b[0m             \u001b[0;32mif\u001b[0m \u001b[0mself\u001b[0m\u001b[0;34m.\u001b[0m\u001b[0m_info_axis\u001b[0m\u001b[0;34m.\u001b[0m\u001b[0m_can_hold_identifiers_and_holds_name\u001b[0m\u001b[0;34m(\u001b[0m\u001b[0mname\u001b[0m\u001b[0;34m)\u001b[0m\u001b[0;34m:\u001b[0m\u001b[0;34m\u001b[0m\u001b[0;34m\u001b[0m\u001b[0m\n\u001b[1;32m   5140\u001b[0m                 \u001b[0;32mreturn\u001b[0m \u001b[0mself\u001b[0m\u001b[0;34m[\u001b[0m\u001b[0mname\u001b[0m\u001b[0;34m]\u001b[0m\u001b[0;34m\u001b[0m\u001b[0;34m\u001b[0m\u001b[0m\n\u001b[0;32m-> 5141\u001b[0;31m             \u001b[0;32mreturn\u001b[0m \u001b[0mobject\u001b[0m\u001b[0;34m.\u001b[0m\u001b[0m__getattribute__\u001b[0m\u001b[0;34m(\u001b[0m\u001b[0mself\u001b[0m\u001b[0;34m,\u001b[0m \u001b[0mname\u001b[0m\u001b[0;34m)\u001b[0m\u001b[0;34m\u001b[0m\u001b[0;34m\u001b[0m\u001b[0m\n\u001b[0m\u001b[1;32m   5142\u001b[0m \u001b[0;34m\u001b[0m\u001b[0m\n\u001b[1;32m   5143\u001b[0m     \u001b[0;32mdef\u001b[0m \u001b[0m__setattr__\u001b[0m\u001b[0;34m(\u001b[0m\u001b[0mself\u001b[0m\u001b[0;34m,\u001b[0m \u001b[0mname\u001b[0m\u001b[0;34m:\u001b[0m \u001b[0mstr\u001b[0m\u001b[0;34m,\u001b[0m \u001b[0mvalue\u001b[0m\u001b[0;34m)\u001b[0m \u001b[0;34m->\u001b[0m \u001b[0;32mNone\u001b[0m\u001b[0;34m:\u001b[0m\u001b[0;34m\u001b[0m\u001b[0;34m\u001b[0m\u001b[0m\n",
            "\u001b[0;31mAttributeError\u001b[0m: 'DataFrame' object has no attribute 'distplot'"
          ]
        },
        {
          "output_type": "display_data",
          "data": {
            "text/plain": [
              "<Figure size 432x288 with 0 Axes>"
            ]
          },
          "metadata": {
            "tags": []
          }
        }
      ]
    },
    {
      "cell_type": "code",
      "metadata": {
        "id": "5byjD1FCQsIz",
        "colab": {
          "base_uri": "https://localhost:8080/",
          "height": 286
        },
        "outputId": "2fac87e4-8be6-4ee5-c241-d86230710a7b"
      },
      "source": [
        "df.describe()"
      ],
      "execution_count": 41,
      "outputs": [
        {
          "output_type": "execute_result",
          "data": {
            "text/html": [
              "<div>\n",
              "<style scoped>\n",
              "    .dataframe tbody tr th:only-of-type {\n",
              "        vertical-align: middle;\n",
              "    }\n",
              "\n",
              "    .dataframe tbody tr th {\n",
              "        vertical-align: top;\n",
              "    }\n",
              "\n",
              "    .dataframe thead th {\n",
              "        text-align: right;\n",
              "    }\n",
              "</style>\n",
              "<table border=\"1\" class=\"dataframe\">\n",
              "  <thead>\n",
              "    <tr style=\"text-align: right;\">\n",
              "      <th></th>\n",
              "      <th>Quantity</th>\n",
              "      <th>UnitPrice</th>\n",
              "      <th>CustomerID</th>\n",
              "      <th>Hour</th>\n",
              "      <th>Month</th>\n",
              "      <th>Day</th>\n",
              "    </tr>\n",
              "  </thead>\n",
              "  <tbody>\n",
              "    <tr>\n",
              "      <th>count</th>\n",
              "      <td>267715.000000</td>\n",
              "      <td>267715.000000</td>\n",
              "      <td>267715.000000</td>\n",
              "      <td>267715.000000</td>\n",
              "      <td>267715.000000</td>\n",
              "      <td>267715.000000</td>\n",
              "    </tr>\n",
              "    <tr>\n",
              "      <th>mean</th>\n",
              "      <td>10.434709</td>\n",
              "      <td>4.100209</td>\n",
              "      <td>15249.518391</td>\n",
              "      <td>13.060975</td>\n",
              "      <td>5.244170</td>\n",
              "      <td>14.379747</td>\n",
              "    </tr>\n",
              "    <tr>\n",
              "      <th>std</th>\n",
              "      <td>149.105388</td>\n",
              "      <td>36.469364</td>\n",
              "      <td>1460.594895</td>\n",
              "      <td>2.479619</td>\n",
              "      <td>3.409069</td>\n",
              "      <td>8.123313</td>\n",
              "    </tr>\n",
              "    <tr>\n",
              "      <th>min</th>\n",
              "      <td>1.000000</td>\n",
              "      <td>0.000000</td>\n",
              "      <td>12346.000000</td>\n",
              "      <td>7.000000</td>\n",
              "      <td>1.000000</td>\n",
              "      <td>1.000000</td>\n",
              "    </tr>\n",
              "    <tr>\n",
              "      <th>25%</th>\n",
              "      <td>1.000000</td>\n",
              "      <td>1.250000</td>\n",
              "      <td>14499.000000</td>\n",
              "      <td>11.000000</td>\n",
              "      <td>3.000000</td>\n",
              "      <td>7.000000</td>\n",
              "    </tr>\n",
              "    <tr>\n",
              "      <th>50%</th>\n",
              "      <td>3.000000</td>\n",
              "      <td>2.100000</td>\n",
              "      <td>15152.000000</td>\n",
              "      <td>13.000000</td>\n",
              "      <td>5.000000</td>\n",
              "      <td>14.000000</td>\n",
              "    </tr>\n",
              "    <tr>\n",
              "      <th>75%</th>\n",
              "      <td>10.000000</td>\n",
              "      <td>4.150000</td>\n",
              "      <td>16131.000000</td>\n",
              "      <td>15.000000</td>\n",
              "      <td>7.000000</td>\n",
              "      <td>21.000000</td>\n",
              "    </tr>\n",
              "    <tr>\n",
              "      <th>max</th>\n",
              "      <td>74215.000000</td>\n",
              "      <td>13541.330000</td>\n",
              "      <td>18287.000000</td>\n",
              "      <td>20.000000</td>\n",
              "      <td>12.000000</td>\n",
              "      <td>31.000000</td>\n",
              "    </tr>\n",
              "  </tbody>\n",
              "</table>\n",
              "</div>"
            ],
            "text/plain": [
              "            Quantity      UnitPrice  ...          Month            Day\n",
              "count  267715.000000  267715.000000  ...  267715.000000  267715.000000\n",
              "mean       10.434709       4.100209  ...       5.244170      14.379747\n",
              "std       149.105388      36.469364  ...       3.409069       8.123313\n",
              "min         1.000000       0.000000  ...       1.000000       1.000000\n",
              "25%         1.000000       1.250000  ...       3.000000       7.000000\n",
              "50%         3.000000       2.100000  ...       5.000000      14.000000\n",
              "75%        10.000000       4.150000  ...       7.000000      21.000000\n",
              "max     74215.000000   13541.330000  ...      12.000000      31.000000\n",
              "\n",
              "[8 rows x 6 columns]"
            ]
          },
          "metadata": {
            "tags": []
          },
          "execution_count": 41
        }
      ]
    },
    {
      "cell_type": "code",
      "metadata": {
        "id": "Z3juwi50RJxX",
        "colab": {
          "base_uri": "https://localhost:8080/"
        },
        "outputId": "7808eb9b-db69-48bd-d4b6-96c384fc93f6"
      },
      "source": [
        "for col in df:\n",
        "    print(df[col].unique())"
      ],
      "execution_count": 42,
      "outputs": [
        {
          "output_type": "stream",
          "text": [
            "['536365' '536366' '536367' ... '561032' '561033' '561034']\n",
            "['85123A' '71053' '84406B' ... '84387A' '16169E' '84857B']\n",
            "['WHITE HANGING HEART T-LIGHT HOLDER' 'WHITE METAL LANTERN'\n",
            " 'CREAM CUPID HEARTS COAT HANGER' ... 'BIRD ON BRANCH CANVAS SCREEN'\n",
            " \"WRAP 50'S  CHRISTMAS\" 'BLUE MONTE CARLO HANDBAG']\n",
            "[6.0000e+00 8.0000e+00 2.0000e+00 3.2000e+01 3.0000e+00 4.0000e+00\n",
            " 2.4000e+01 1.2000e+01 4.8000e+01 1.8000e+01 2.0000e+01 3.6000e+01\n",
            " 8.0000e+01 6.4000e+01 1.0000e+01 1.2000e+02 9.6000e+01 2.3000e+01\n",
            " 5.0000e+00 1.0000e+00 5.0000e+01 4.0000e+01 1.0000e+02 1.9200e+02\n",
            " 4.3200e+02 1.4400e+02 2.8800e+02 1.6000e+01 9.0000e+00 1.2800e+02\n",
            " 2.5000e+01 3.0000e+01 2.8000e+01 7.0000e+00 7.2000e+01 2.0000e+02\n",
            " 6.0000e+02 4.8000e+02 1.4000e+01 1.1000e+01 3.3000e+01 1.3000e+01\n",
            " 7.0000e+01 2.5200e+02 6.0000e+01 2.1600e+02 3.8400e+02 2.7000e+01\n",
            " 1.5000e+01 2.2000e+01 1.9000e+01 1.7000e+01 2.1000e+01 3.4000e+01\n",
            " 4.7000e+01 1.0800e+02 5.2000e+01 7.5000e+01 2.7000e+02 4.2000e+01\n",
            " 2.4000e+02 9.0000e+01 3.2000e+02 1.8240e+03 2.0400e+02 6.9000e+01\n",
            " 1.6000e+02 2.8800e+03 1.4000e+03 3.9000e+01 5.6000e+01 2.6000e+01\n",
            " 1.4400e+03 3.1000e+01 8.2000e+01 7.8000e+01 9.7000e+01 9.8000e+01\n",
            " 3.5000e+01 7.2000e+02 1.5600e+02 3.2400e+02 3.8000e+01 3.7000e+01\n",
            " 4.9000e+01 9.5000e+01 2.9000e+01 4.1000e+01 4.0200e+02 3.7800e+02\n",
            " 1.5000e+02 3.0000e+02 5.4000e+01 1.0400e+02 6.7000e+01 2.5800e+02\n",
            " 6.6000e+01 4.4000e+01 5.5000e+01 4.6000e+01 9.9000e+01 6.1000e+01\n",
            " 4.0800e+02 9.7200e+02 2.0800e+02 1.0080e+03 1.0000e+03 1.4880e+03\n",
            " 2.5000e+02 1.3940e+03 4.0000e+02 1.1000e+02 2.7200e+02 8.4000e+01\n",
            " 1.1300e+02 4.5000e+01 1.0600e+02 6.8000e+01 2.6700e+02 1.1500e+02\n",
            " 6.5000e+01 1.7280e+03 5.3000e+01 7.6000e+01 7.1000e+01 4.3000e+01\n",
            " 2.1300e+02 5.8000e+01 5.7600e+02 2.4000e+03 5.0000e+02 1.8000e+02\n",
            " 7.5200e+02 9.6000e+02 1.2960e+03 2.1000e+02 1.7200e+02 5.7000e+01\n",
            " 7.9000e+01 2.1500e+02 1.2900e+02 1.3800e+02 1.1600e+02 1.3500e+02\n",
            " 1.9700e+02 1.4700e+02 1.6800e+02 2.5600e+02 8.6000e+02 1.0100e+03\n",
            " 1.3560e+03 1.2840e+03 1.8600e+02 1.1400e+02 3.6000e+02 1.9300e+03\n",
            " 2.0000e+03 3.1140e+03 1.3000e+03 6.7000e+02 1.1100e+02 2.1100e+02\n",
            " 5.9000e+01 1.7600e+02 6.4800e+02 6.2000e+01 7.4215e+04 8.9000e+01\n",
            " 7.3000e+01 1.1200e+02 4.5600e+02 9.0000e+02 1.3000e+02 2.5920e+03\n",
            " 4.2000e+02 8.0000e+02 1.0100e+02 1.2000e+03 8.6400e+02 9.4000e+01\n",
            " 5.0400e+02 1.2300e+02 1.0560e+03 1.5000e+03 2.8000e+02 4.0700e+02\n",
            " 1.4100e+02 1.2400e+02 3.9060e+03 1.0200e+02 1.1520e+03 1.9800e+02\n",
            " 1.1700e+02 8.6000e+01 1.2500e+02 2.2800e+02 8.1000e+01 3.0000e+03\n",
            " 1.7000e+02 7.6800e+02 8.8000e+01 7.0000e+02 2.1600e+03 3.4200e+02\n",
            " 3.0400e+02 6.4000e+02 1.7500e+02 2.2000e+02 7.4000e+01 9.3000e+01\n",
            " 1.6400e+02 1.6300e+02 6.3000e+01 6.3700e+02 1.2200e+02 1.5800e+02\n",
            " 1.6500e+02 1.1800e+02 3.5000e+02 8.3000e+01 3.1200e+02 3.9200e+02\n",
            " 3.3000e+02 1.5100e+02 4.6200e+02 4.9200e+02 2.7300e+02 8.5000e+01\n",
            " 5.1000e+01 1.0500e+02 1.3500e+03 4.2800e+02 3.3600e+02 1.3200e+02\n",
            " 2.2700e+02 2.7000e+03 2.2200e+02 2.4600e+02 9.0600e+02 7.5600e+02\n",
            " 8.8800e+02 5.5200e+02 2.2400e+02 7.3800e+02 6.0800e+02 4.3000e+03\n",
            " 1.4600e+02 1.4300e+02 2.7600e+02 4.0000e+03 1.6000e+03 3.2300e+02\n",
            " 1.5150e+03 6.6000e+02 2.6400e+02 1.8800e+02 5.8800e+02 6.1200e+02\n",
            " 1.5200e+02 4.3000e+02 8.7000e+01 1.5500e+02 7.0100e+02 8.2800e+02\n",
            " 5.4000e+02 6.9600e+02 5.6000e+02 1.2100e+02 5.1200e+02 3.1000e+03\n",
            " 1.2600e+02 2.9100e+02 3.1860e+03 1.4000e+02 1.0900e+02]\n",
            "['2010-12-01T08:26:00.000000000' '2010-12-01T08:28:00.000000000'\n",
            " '2010-12-01T08:34:00.000000000' ... '2011-07-24T11:37:00.000000000'\n",
            " '2011-07-24T11:40:00.000000000' '2011-07-24T11:45:00.000000000']\n",
            "[2.550000e+00 3.390000e+00 2.750000e+00 7.650000e+00 4.250000e+00\n",
            " 1.850000e+00 1.690000e+00 2.100000e+00 3.750000e+00 1.650000e+00\n",
            " 4.950000e+00 9.950000e+00 5.950000e+00 7.950000e+00 8.500000e-01\n",
            " 6.500000e-01 1.250000e+00 2.950000e+00 1.950000e+00 4.200000e-01\n",
            " 1.800000e+01 1.060000e+00 6.950000e+00 1.095000e+01 3.450000e+00\n",
            " 5.500000e-01 3.800000e-01 1.450000e+00 3.950000e+00 6.750000e+00\n",
            " 1.495000e+01 1.695000e+01 6.450000e+00 1.275000e+01 1.995000e+01\n",
            " 8.500000e+00 3.820000e+00 3.370000e+00 5.450000e+00 6.350000e+00\n",
            " 7.200000e-01 6.400000e-01 1.000000e-01 3.200000e-01 1.480000e+00\n",
            " 1.650000e+02 3.575000e+01 4.650000e+00 2.900000e-01 3.350000e+00\n",
            " 1.065000e+01 1.500000e+01 9.500000e-01 2.100000e-01 1.200000e-01\n",
            " 2.400000e-01 3.250000e+00 1.490000e+00 2.250000e+00 1.550000e+00\n",
            " 1.895000e+01 8.950000e+00 5.000000e+01 2.510000e+00 1.660000e+00\n",
            " 4.300000e-01 7.620000e+00 4.210000e+00 2.980000e+00 5.910000e+00\n",
            " 3.360000e+00 1.698000e+01 1.280000e+00 1.102000e+01 8.470000e+00\n",
            " 8.100000e-01 5.060000e+00 1.272000e+01 1.017000e+01 6.770000e+00\n",
            " 2.038000e+01 1.187000e+01 2.549000e+01 5.102000e+01 9.320000e+00\n",
            " 3.400000e+01 8.400000e-01 1.613000e+01 2.123000e+01 1.868000e+01\n",
            " 1.443000e+01 3.810000e+00 4.240000e+00 1.260000e+00 5.090000e+00\n",
            " 2.960000e+00 2.110000e+00 5.697700e+02 1.357000e+01 2.995000e+01\n",
            " 4.600000e+00 1.050000e+00 5.490000e+00 5.953000e+01 1.528000e+01\n",
            " 1.953000e+01 2.820000e+00 1.270000e+00 3.190000e+00 9.900000e-01\n",
            " 2.130000e+00 5.510000e+00 8.490000e+00 8.070000e+00 7.220000e+00\n",
            " 2.540000e+00 9.340000e+00 5.940000e+00 6.074900e+02 1.900000e-01\n",
            " 1.075000e+01 2.495000e+01 7.995000e+01 1.195000e+01 7.500000e-01\n",
            " 3.600000e-01 3.400000e-01 1.600000e-01 1.880000e+00 7.250000e+00\n",
            " 1.800000e-01 2.950000e+02 4.000000e+01 5.740000e+00 2.979000e+01\n",
            " 2.544300e+02 1.210600e+02 4.984700e+02 1.840000e+00 6.370000e+00\n",
            " 8.875200e+02 0.000000e+00 3.830000e+00 2.800000e+01 7.500000e+00\n",
            " 4.295000e+01 2.695000e+01 1.400000e-01 2.195000e+01 5.550000e+00\n",
            " 4.995000e+01 1.000000e+00 3.490000e+00 7.655000e+01 1.062000e+01\n",
            " 7.640000e+00 8.637400e+02 3.996000e+01 1.105000e+01 9.408700e+02\n",
            " 1.595000e+01 3.500000e+01 3.000000e-01 9.770000e+00 8.300000e-01\n",
            " 9.509900e+02 6.600000e+00 1.930000e+00 3.210000e+00 5.300000e-01\n",
            " 9.245900e+02 7.000000e-02 1.354133e+04 1.700000e+00 8.361400e+02\n",
            " 2.297400e+02 4.480000e+02 5.931500e+02 6.079600e+02 3.995000e+01\n",
            " 4.780000e+00 1.984000e+01 2.310000e+00 6.380000e+00 9.890000e+00\n",
            " 3.860000e+00 5.277000e+01 3.880000e+00 3.269000e+01 7.019500e+02\n",
            " 1.019000e+01 7.294200e+02 1.450000e+02 1.994000e+01 8.859400e+02\n",
            " 5.000000e-01 2.500000e-01 3.595000e+01 5.473200e+02 6.206800e+02\n",
            " 8.229400e+02 8.579000e+01 8.474200e+02 1.240000e+00 2.940000e+00\n",
            " 2.090000e+00 1.640000e+00 1.000000e+01 6.790000e+00 9.074700e+02\n",
            " 4.810000e+00 1.750000e+02 1.700000e-01 2.500000e+00 6.418600e+02\n",
            " 1.190000e+01 5.845900e+02 6.250000e+00 2.120000e+00 1.250000e+02\n",
            " 2.000000e+01 5.000000e+00 1.134500e+02 1.981700e+02 3.404000e+01\n",
            " 3.407200e+02 1.468500e+02 2.000000e+00 1.530000e+00 9.400000e-01\n",
            " 3.495000e+01 3.000000e+00 6.500000e+01 5.107900e+02 1.910000e+00\n",
            " 5.653700e+02 1.085000e+01 8.035500e+02 6.621400e+02 1.020000e+01\n",
            " 6.036200e+02 3.968100e+02 3.380000e+00 3.500000e+00 4.000000e-01\n",
            " 3.507800e+02 2.508300e+02 2.200000e+01 1.500000e+02 1.823700e+02\n",
            " 1.123700e+02 1.645500e+02 3.372300e+02 5.140000e+02 5.497900e+02\n",
            " 3.244300e+02 3.116600e+02 1.286000e+02 1.143400e+02 1.035700e+02\n",
            " 1.895700e+02 1.526800e+02 5.060000e+01 5.064000e+01 2.953000e+01\n",
            " 1.870000e+00 1.298400e+03 3.826000e+01 4.255000e+01 6.274700e+02\n",
            " 2.000000e-01 4.697000e+02 1.928600e+02 3.980000e+00 2.553000e+01\n",
            " 1.091900e+02 1.702000e+01 2.192400e+02 3.700000e-01 3.063500e+02\n",
            " 2.974000e+01 3.699500e+02 2.789700e+02 5.570000e+02 6.700000e+00\n",
            " 2.627300e+02 2.233500e+02 3.240000e+00 2.170000e+00 1.013000e+01\n",
            " 2.400000e+00 2.650000e+00 2.210000e+00 2.160000e+00 7.300000e-01\n",
            " 3.440000e+00 4.680000e+00 2.220000e+00 2.690000e+00 4.620000e+00\n",
            " 6.910000e+00 9.160000e+00 8.870000e+00 7.130000e+00 3.948300e+02\n",
            " 4.130000e+00 2.460000e+00 6.630000e+00 4.960000e+00 7.460000e+00\n",
            " 5.790000e+00 3.290000e+00 1.079000e+01 1.663000e+01 8.290000e+00\n",
            " 1.630000e+00 1.246000e+01 9.130000e+00 2.080000e+00 2.496000e+01\n",
            " 4.919300e+02 4.781000e+02 7.450000e+00 3.120000e+00 2.920000e+00\n",
            " 7.900000e-01 3.730000e+00 4.150000e+00 2.900000e+00 2.070000e+00\n",
            " 1.667000e+01 4.044900e+02 1.163000e+01 1.413000e+01 1.329000e+01\n",
            " 9.960000e+00 2.917000e+01 2.079000e+01 9.700000e-01 1.996000e+01\n",
            " 7.496000e+01 4.980000e+00 3.239800e+02 2.480000e+00 1.829000e+01\n",
            " 5.096000e+01 5.380000e+00 3.329000e+01 6.079000e+01 8.142000e+01\n",
            " 1.579000e+01 1.380000e+02 1.562100e+02 1.275400e+02 1.208800e+02\n",
            " 1.230000e+00 7.480000e+00 3.913200e+02 4.710000e+00 1.248000e+01\n",
            " 9.150000e+00 4.495200e+02 2.952000e+02 1.460000e+00 1.040000e+01\n",
            " 5.400000e+00 2.354800e+02 3.018400e+02 6.650000e+00 1.100000e+02\n",
            " 1.040000e+00 1.167100e+02 1.010000e+02 6.230000e+00 2.432100e+02\n",
            " 5.820000e+00 1.183300e+02 7.233000e+01 5.630000e+00 1.529200e+02\n",
            " 2.853000e+02 8.330000e+00 1.182500e+02 7.900000e+00 4.701200e+02\n",
            " 2.943000e+01 2.760000e+00 3.341600e+02 1.670000e+00 1.496000e+01\n",
            " 3.078500e+02 5.795000e+01 1.570800e+02 1.710400e+02 3.320000e+00\n",
            " 4.038100e+02 2.144200e+02 1.800000e+00 1.444500e+02 1.057100e+02\n",
            " 1.270900e+02 1.610800e+02 8.046000e+01 7.070000e+00 1.636700e+02\n",
            " 1.241600e+02 5.995000e+01 1.502500e+02 4.996000e+01 2.161100e+02\n",
            " 3.333000e+01 2.475400e+02 2.003800e+02 2.463700e+02 8.200000e-01\n",
            " 1.000000e+02 1.380000e+00 2.003300e+02 4.000000e+00 9.980000e+00\n",
            " 2.238900e+02 2.306100e+02 1.913000e+01 1.888800e+02 1.922100e+02\n",
            " 1.577600e+02 8.677000e+01 1.895900e+02 2.913000e+01 1.087500e+02\n",
            " 1.724200e+02 1.422900e+02 2.597500e+02 1.741200e+02 1.685300e+02\n",
            " 2.300800e+02 1.644600e+02 2.081200e+02 1.669200e+02 2.120400e+02\n",
            " 1.830900e+02 5.750000e+00 2.182600e+02 4.770000e+00 1.714200e+02\n",
            " 1.101300e+02 1.792900e+02 1.537100e+02 2.349200e+02 2.131500e+02\n",
            " 2.251700e+02 2.540800e+02 2.061500e+02 2.200000e-01 2.089200e+02\n",
            " 2.484800e+02 1.982100e+02 1.681900e+02 8.320000e+00 1.272400e+02\n",
            " 4.790000e+00 1.385000e+02 1.118600e+02 6.000000e-02 1.494900e+02\n",
            " 2.130800e+02 1.430400e+02 1.322500e+02 2.077900e+02 1.594600e+02\n",
            " 1.858300e+02 1.357500e+02 3.900000e-01 2.500000e+01 1.799400e+02\n",
            " 6.300000e-01 4.120000e+00 1.490200e+02 3.206900e+02 1.441500e+02\n",
            " 1.987700e+02 1.750000e+00 8.150000e+00 5.830000e+00 1.401900e+02\n",
            " 1.729900e+02 1.363800e+02 1.001700e+02 1.340400e+02 1.247900e+02\n",
            " 1.373300e+02 1.610400e+02 1.705400e+02 3.330000e+00 3.913000e+01\n",
            " 1.899100e+02 7.967000e+01 1.379600e+02 1.474900e+02 4.800000e+01\n",
            " 7.641200e+02 3.500000e-01 2.651900e+02 1.165000e+01 1.726200e+02\n",
            " 7.558000e+01 3.608000e+01 1.486700e+02 3.765000e+02 2.800500e+02\n",
            " 1.837500e+02 1.553100e+02 2.756000e+02 2.016400e+02 6.980000e+00\n",
            " 2.890000e+00 4.580000e+00 2.261900e+02 8.250000e+00 1.764800e+02\n",
            " 1.950000e+02 1.305800e+02 1.809200e+02 1.922900e+02 1.471300e+02\n",
            " 3.295000e+01 4.500000e+01 2.490200e+02 2.186400e+02 8.000000e-02\n",
            " 1.461000e+02 1.878900e+02 3.400000e+00 1.993300e+02 8.620000e+00\n",
            " 1.470300e+02 1.687170e+03 2.013700e+02 2.583760e+03 1.331300e+02\n",
            " 1.117900e+02 1.126700e+02 1.675800e+02 1.554600e+02 1.259600e+02\n",
            " 1.225800e+02 1.725400e+02 3.030000e+02 2.378900e+02 2.273000e+02\n",
            " 1.924400e+02 2.550400e+02 7.829000e+01 4.987900e+02 1.225000e+02\n",
            " 1.314600e+02 1.849600e+02 2.180800e+02 2.798400e+02 1.973300e+02\n",
            " 1.924300e+02 2.532400e+02 6.800000e-01 1.106000e+02 1.312200e+02\n",
            " 1.462900e+02 1.414200e+02 1.552500e+02 1.166700e+02 1.154200e+02\n",
            " 1.282500e+02 1.692900e+02 2.700000e+01 2.320000e+00 6.000000e+00\n",
            " 1.298000e+01 1.752800e+02 3.850000e+00 2.207100e+02 2.197600e+02\n",
            " 1.846000e+02 2.297900e+02 2.490000e+00 2.317900e+02 1.734200e+02\n",
            " 1.428300e+02 1.801700e+02 1.818800e+02 1.447500e+02 9.570000e+00\n",
            " 2.353000e+01 2.269200e+02 1.295000e+01 1.500000e+00 2.381200e+02\n",
            " 2.450000e+00 2.997600e+02 1.790000e+00 2.747500e+02 2.368800e+02\n",
            " 2.828800e+02 1.973000e+02 9.860000e+00 2.905900e+02 7.600000e-01\n",
            " 3.500000e+02 2.444600e+02 1.340000e+02 1.626000e+02 2.382920e+03\n",
            " 2.393000e+02 1.252950e+03 2.053070e+03 3.365200e+02 3.140000e+00\n",
            " 7.000000e+00 2.789200e+02 1.136300e+03 1.852800e+02 1.872100e+02\n",
            " 2.525700e+02 1.867860e+03 1.832000e+02 1.346600e+02 3.000000e+01\n",
            " 3.088200e+02 1.000000e-03 7.796000e+01 7.475000e+01 1.370800e+02\n",
            " 1.553300e+02 1.454600e+02 2.104200e+02 1.643300e+02 2.024200e+02\n",
            " 1.109200e+02 1.060400e+02 1.052100e+02 1.751300e+02 1.250000e+01\n",
            " 2.227500e+02 1.564500e+02 2.290000e+00 2.866000e+01 4.686000e+01\n",
            " 8.421000e+01 2.220200e+02 1.350000e+00 1.871000e+02 1.765200e+02\n",
            " 1.496700e+02 1.926700e+02 2.350000e+00 7.050000e+00 5.829000e+01\n",
            " 2.830000e+02 3.300000e+00 2.211600e+02 1.638300e+02 1.767100e+02\n",
            " 1.726300e+02 1.380800e+02 1.258800e+02 2.640000e+02 1.191300e+02\n",
            " 1.336400e+02 1.117300e+02 1.740000e+00 3.150000e+00 1.025000e+02\n",
            " 6.620000e+00 1.813400e+02 4.000000e+02 1.431800e+02 1.115000e+01\n",
            " 8.142750e+03 2.595000e+01 1.603700e+02 1.781200e+02 5.564000e+01\n",
            " 4.357000e+01 4.962000e+01 2.174000e+01 4.167000e+01 3.671000e+01\n",
            " 1.742400e+02 2.266100e+02 1.986000e+02 2.054500e+02 1.898400e+02\n",
            " 3.347100e+02 1.849200e+02 1.618800e+02 1.331700e+02 1.019200e+02\n",
            " 1.092500e+02 1.183800e+02 1.686300e+02 1.818300e+02 1.356700e+02\n",
            " 9.538000e+01 1.322900e+02 1.668800e+02 2.022900e+02 2.029600e+02\n",
            " 2.015000e+02 1.660800e+02 1.314200e+02 1.619600e+02 2.465000e+02\n",
            " 1.209200e+02 1.890000e+00 5.390000e+00 6.900000e-01 1.756900e+02\n",
            " 5.230000e+02 1.896800e+02 5.577200e+02 7.400000e-01 1.521900e+02\n",
            " 2.660000e+00 2.330000e+00 1.826700e+02 4.913000e+01 1.139900e+02\n",
            " 6.638000e+01 6.780000e+00 5.880000e+00 4.860000e+00 9.420000e+00\n",
            " 1.980000e+00 1.180000e+00 1.920000e+00 6.420000e+00 4.270000e+00\n",
            " 1.680000e+00 4.524500e+02 4.658700e+02 2.481300e+02 2.046300e+02\n",
            " 1.545000e+02 1.240800e+02 1.059600e+02 9.996000e+01 5.355000e+01\n",
            " 1.796700e+02 2.930000e+02 1.768000e+02 2.055000e+02 1.627500e+02\n",
            " 2.364600e+02 1.670300e+02 4.175000e+01 1.242700e+02 1.900000e+00\n",
            " 1.241980e+03 1.569200e+02 1.596300e+02 2.499100e+02 4.180000e+00\n",
            " 1.626700e+02 1.941200e+02 2.142900e+02 2.027700e+02 7.575000e+01\n",
            " 1.678800e+02 5.850000e+01 1.487500e+02 1.642900e+02 1.540100e+02\n",
            " 5.970000e+00 1.835500e+02 2.052900e+02 1.858800e+02 1.248700e+02\n",
            " 9.796000e+01 9.854000e+01 5.679000e+01 8.871000e+01 4.600000e+01\n",
            " 4.767000e+01 1.586300e+02 2.168000e+02 1.814500e+02 5.900000e-01\n",
            " 2.088900e+02 4.163000e+01 5.150000e+00 4.000000e-02 2.221800e+02\n",
            " 1.747800e+02 1.735900e+02 1.293800e+02 2.129600e+02 8.979000e+01\n",
            " 1.513300e+02 5.333000e+01 3.613000e+01 9.375000e+01 6.179000e+01\n",
            " 8.463000e+01 9.779000e+01 2.244200e+02 9.875000e+01 1.925400e+02\n",
            " 2.759800e+02 2.753400e+02 2.373300e+02 9.133000e+01 1.307100e+02\n",
            " 6.163000e+01 9.080000e+00 6.495000e+02 1.714600e+02 1.011700e+02\n",
            " 6.171000e+01 8.704000e+01 2.020000e+00 1.885400e+02 4.800000e+00\n",
            " 3.910000e+00 3.900000e+00 6.400000e+00 2.396700e+02 1.917800e+02\n",
            " 2.050000e+01 6.579000e+01 1.174200e+02 2.770000e+02 8.000000e+00\n",
            " 1.410300e+02 2.800000e-01 2.730100e+02 6.200000e-01 2.123300e+02\n",
            " 1.917000e+03 1.216120e+03 8.638000e+01 1.306300e+02 5.758000e+01\n",
            " 1.323300e+02 1.823800e+02 2.633000e+01 4.613000e+01 1.670200e+02\n",
            " 1.733000e+02 2.060000e+00 2.700000e-01 8.600000e-01 2.260000e+00\n",
            " 2.620000e+00 5.800000e-01 7.571000e+01 8.875000e+01 1.290800e+02\n",
            " 1.384600e+02 8.775000e+01 7.000000e+02 9.800000e-01 3.010000e+00\n",
            " 7.850000e+00 1.578100e+02 1.597800e+02 5.422000e+02 1.507700e+02\n",
            " 6.500000e+00 1.507100e+02 2.005800e+02 6.246000e+01 1.315800e+02\n",
            " 1.897900e+02 5.508000e+01 6.890000e+00 1.475300e+02 1.075800e+02\n",
            " 5.833000e+01 8.133000e+01 4.814500e+02 5.320000e+00 6.000000e+02\n",
            " 8.584600e+02 2.646500e+02 6.488000e+01 6.567000e+01 1.265400e+02\n",
            " 1.125000e+02 1.166900e+02 2.066600e+02 3.042400e+02 4.275000e+01\n",
            " 1.465000e+02 1.967900e+02 5.763000e+01 5.425000e+01 1.176300e+02\n",
            " 3.896800e+02 3.950000e+01 2.467000e+01 7.567000e+01 1.587100e+02\n",
            " 2.018400e+02 5.761800e+02 5.316500e+02 2.316100e+02 2.404100e+02\n",
            " 2.983100e+02 2.966100e+02 8.500000e+01 1.916700e+02 6.900000e+01\n",
            " 1.645400e+02 5.604000e+01 1.669600e+02 6.992000e+01 1.975000e+01\n",
            " 3.198200e+02 5.767000e+01 3.617000e+01 1.642000e+01 9.288000e+01\n",
            " 2.751100e+02 2.300000e+01 3.450000e+01 9.042000e+01 1.758800e+02\n",
            " 3.756400e+02 1.695500e+02 1.987500e+02 2.406700e+02 2.390000e+00\n",
            " 3.200000e+00 2.558300e+02 5.509400e+02 3.773300e+02 8.221000e+01\n",
            " 1.201700e+02 8.883000e+01 1.539200e+02 4.946000e+01 1.351300e+02\n",
            " 1.779600e+02 4.287630e+03 5.506400e+02 7.172300e+02 1.592490e+03\n",
            " 6.118600e+02 1.881500e+02 3.230500e+02 2.949200e+02 7.054500e+02\n",
            " 1.123500e+02 1.064000e+02 4.514200e+02 2.680500e+02 2.521100e+02\n",
            " 7.900000e+01 7.983000e+01 1.787100e+02 2.330400e+02 4.300000e+00\n",
            " 3.567000e+02]\n",
            "[17850. 13047. 12583. ... 18262. 13563. 15506.]\n",
            "['United Kingdom' 'France' 'Australia' 'Netherlands' 'Germany' 'Norway'\n",
            " 'EIRE' 'Switzerland' 'Spain' 'Poland' 'Portugal' 'Italy' 'Belgium'\n",
            " 'Lithuania' 'Japan' 'Iceland' 'Channel Islands' 'Denmark' 'Cyprus'\n",
            " 'Sweden' 'Finland' 'Austria' 'Bahrain' 'Israel' 'Greece' 'Hong Kong'\n",
            " 'Singapore' 'Lebanon' 'United Arab Emirates' 'Saudi Arabia'\n",
            " 'Czech Republic' 'Canada' 'Unspecified' 'Brazil' 'USA'\n",
            " 'European Community' 'Malta']\n",
            "[ 8  9 10 11 12 13 14 15 16 17  7 18 19 20]\n",
            "[12  1  2  3  4  5  6  7]\n",
            "[ 1  2  3  5  6  7  8  9 10 12 13 14 15 16 17 19 20 21 22 23  4 11 18 24\n",
            " 25 26 27 28 30 31 29]\n"
          ],
          "name": "stdout"
        }
      ]
    },
    {
      "cell_type": "code",
      "metadata": {
        "colab": {
          "base_uri": "https://localhost:8080/"
        },
        "id": "0aDtAMi1Wo7e",
        "outputId": "bd3a72c4-1c5d-453d-8b89-5f8200904eb6"
      },
      "source": [
        "df.duplicated().sum()"
      ],
      "execution_count": 43,
      "outputs": [
        {
          "output_type": "execute_result",
          "data": {
            "text/plain": [
              "0"
            ]
          },
          "metadata": {
            "tags": []
          },
          "execution_count": 43
        }
      ]
    },
    {
      "cell_type": "code",
      "metadata": {
        "colab": {
          "base_uri": "https://localhost:8080/",
          "height": 280
        },
        "id": "HKGahSic-XXP",
        "outputId": "cad7c715-ee84-49b6-a9f7-d2d0cb200a61"
      },
      "source": [
        "df.head()"
      ],
      "execution_count": 44,
      "outputs": [
        {
          "output_type": "execute_result",
          "data": {
            "text/html": [
              "<div>\n",
              "<style scoped>\n",
              "    .dataframe tbody tr th:only-of-type {\n",
              "        vertical-align: middle;\n",
              "    }\n",
              "\n",
              "    .dataframe tbody tr th {\n",
              "        vertical-align: top;\n",
              "    }\n",
              "\n",
              "    .dataframe thead th {\n",
              "        text-align: right;\n",
              "    }\n",
              "</style>\n",
              "<table border=\"1\" class=\"dataframe\">\n",
              "  <thead>\n",
              "    <tr style=\"text-align: right;\">\n",
              "      <th></th>\n",
              "      <th>InvoiceNo</th>\n",
              "      <th>StockCode</th>\n",
              "      <th>Description</th>\n",
              "      <th>Quantity</th>\n",
              "      <th>InvoiceDate</th>\n",
              "      <th>UnitPrice</th>\n",
              "      <th>CustomerID</th>\n",
              "      <th>Country</th>\n",
              "      <th>Hour</th>\n",
              "      <th>Month</th>\n",
              "      <th>Day</th>\n",
              "    </tr>\n",
              "  </thead>\n",
              "  <tbody>\n",
              "    <tr>\n",
              "      <th>0</th>\n",
              "      <td>536365</td>\n",
              "      <td>85123A</td>\n",
              "      <td>WHITE HANGING HEART T-LIGHT HOLDER</td>\n",
              "      <td>6.0</td>\n",
              "      <td>2010-12-01 08:26:00</td>\n",
              "      <td>2.55</td>\n",
              "      <td>17850.0</td>\n",
              "      <td>United Kingdom</td>\n",
              "      <td>8</td>\n",
              "      <td>12</td>\n",
              "      <td>1</td>\n",
              "    </tr>\n",
              "    <tr>\n",
              "      <th>1</th>\n",
              "      <td>536365</td>\n",
              "      <td>71053</td>\n",
              "      <td>WHITE METAL LANTERN</td>\n",
              "      <td>6.0</td>\n",
              "      <td>2010-12-01 08:26:00</td>\n",
              "      <td>3.39</td>\n",
              "      <td>17850.0</td>\n",
              "      <td>United Kingdom</td>\n",
              "      <td>8</td>\n",
              "      <td>12</td>\n",
              "      <td>1</td>\n",
              "    </tr>\n",
              "    <tr>\n",
              "      <th>2</th>\n",
              "      <td>536365</td>\n",
              "      <td>84406B</td>\n",
              "      <td>CREAM CUPID HEARTS COAT HANGER</td>\n",
              "      <td>8.0</td>\n",
              "      <td>2010-12-01 08:26:00</td>\n",
              "      <td>2.75</td>\n",
              "      <td>17850.0</td>\n",
              "      <td>United Kingdom</td>\n",
              "      <td>8</td>\n",
              "      <td>12</td>\n",
              "      <td>1</td>\n",
              "    </tr>\n",
              "    <tr>\n",
              "      <th>3</th>\n",
              "      <td>536365</td>\n",
              "      <td>84029G</td>\n",
              "      <td>KNITTED UNION FLAG HOT WATER BOTTLE</td>\n",
              "      <td>6.0</td>\n",
              "      <td>2010-12-01 08:26:00</td>\n",
              "      <td>3.39</td>\n",
              "      <td>17850.0</td>\n",
              "      <td>United Kingdom</td>\n",
              "      <td>8</td>\n",
              "      <td>12</td>\n",
              "      <td>1</td>\n",
              "    </tr>\n",
              "    <tr>\n",
              "      <th>4</th>\n",
              "      <td>536365</td>\n",
              "      <td>84029E</td>\n",
              "      <td>RED WOOLLY HOTTIE WHITE HEART.</td>\n",
              "      <td>6.0</td>\n",
              "      <td>2010-12-01 08:26:00</td>\n",
              "      <td>3.39</td>\n",
              "      <td>17850.0</td>\n",
              "      <td>United Kingdom</td>\n",
              "      <td>8</td>\n",
              "      <td>12</td>\n",
              "      <td>1</td>\n",
              "    </tr>\n",
              "  </tbody>\n",
              "</table>\n",
              "</div>"
            ],
            "text/plain": [
              "  InvoiceNo StockCode                          Description  ...  Hour Month  Day\n",
              "0    536365    85123A   WHITE HANGING HEART T-LIGHT HOLDER  ...     8    12    1\n",
              "1    536365     71053                  WHITE METAL LANTERN  ...     8    12    1\n",
              "2    536365    84406B       CREAM CUPID HEARTS COAT HANGER  ...     8    12    1\n",
              "3    536365    84029G  KNITTED UNION FLAG HOT WATER BOTTLE  ...     8    12    1\n",
              "4    536365    84029E       RED WOOLLY HOTTIE WHITE HEART.  ...     8    12    1\n",
              "\n",
              "[5 rows x 11 columns]"
            ]
          },
          "metadata": {
            "tags": []
          },
          "execution_count": 44
        }
      ]
    },
    {
      "cell_type": "code",
      "metadata": {
        "id": "YKkIvp8iXHr3",
        "colab": {
          "base_uri": "https://localhost:8080/"
        },
        "outputId": "b0f4f126-ff65-4e68-9064-9b30f3989bf6"
      },
      "source": [
        "df.isnull().sum()"
      ],
      "execution_count": 45,
      "outputs": [
        {
          "output_type": "execute_result",
          "data": {
            "text/plain": [
              "InvoiceNo      0\n",
              "StockCode      0\n",
              "Description    0\n",
              "Quantity       0\n",
              "InvoiceDate    0\n",
              "UnitPrice      0\n",
              "CustomerID     0\n",
              "Country        0\n",
              "Hour           0\n",
              "Month          0\n",
              "Day            0\n",
              "dtype: int64"
            ]
          },
          "metadata": {
            "tags": []
          },
          "execution_count": 45
        }
      ]
    },
    {
      "cell_type": "code",
      "metadata": {
        "id": "zv5evv5r9ZZJ",
        "colab": {
          "base_uri": "https://localhost:8080/",
          "height": 128
        },
        "outputId": "d0b640d7-d712-4e32-f0be-649c0e714ceb"
      },
      "source": [
        "df.Description."
      ],
      "execution_count": 46,
      "outputs": [
        {
          "output_type": "error",
          "ename": "SyntaxError",
          "evalue": "ignored",
          "traceback": [
            "\u001b[0;36m  File \u001b[0;32m\"<ipython-input-46-f2b11220bd68>\"\u001b[0;36m, line \u001b[0;32m1\u001b[0m\n\u001b[0;31m    df.Description.\u001b[0m\n\u001b[0m                   ^\u001b[0m\n\u001b[0;31mSyntaxError\u001b[0m\u001b[0;31m:\u001b[0m invalid syntax\n"
          ]
        }
      ]
    },
    {
      "cell_type": "code",
      "metadata": {
        "id": "VOVW1QBt9cIK"
      },
      "source": [
        "c=df.Description.median()"
      ],
      "execution_count": null,
      "outputs": []
    },
    {
      "cell_type": "code",
      "metadata": {
        "id": "zC6GVdBQ9hL3",
        "colab": {
          "base_uri": "https://localhost:8080/",
          "height": 161
        },
        "outputId": "b5557e9b-b72d-462e-d9db-3af432d8c79e"
      },
      "source": [
        "c"
      ],
      "execution_count": 47,
      "outputs": [
        {
          "output_type": "error",
          "ename": "NameError",
          "evalue": "ignored",
          "traceback": [
            "\u001b[0;31m---------------------------------------------------------------------------\u001b[0m",
            "\u001b[0;31mNameError\u001b[0m                                 Traceback (most recent call last)",
            "\u001b[0;32m<ipython-input-47-2b66fd261ee5>\u001b[0m in \u001b[0;36m<module>\u001b[0;34m()\u001b[0m\n\u001b[0;32m----> 1\u001b[0;31m \u001b[0mc\u001b[0m\u001b[0;34m\u001b[0m\u001b[0;34m\u001b[0m\u001b[0m\n\u001b[0m",
            "\u001b[0;31mNameError\u001b[0m: name 'c' is not defined"
          ]
        }
      ]
    },
    {
      "cell_type": "code",
      "metadata": {
        "id": "JNo6fju2-Atn"
      },
      "source": [
        "df[\"Description\"].fillna(df[\"CustomerID\"].median()[0],inplace=True)"
      ],
      "execution_count": null,
      "outputs": []
    },
    {
      "cell_type": "code",
      "metadata": {
        "id": "A0QSpaqABBdO"
      },
      "source": [
        "df.info()"
      ],
      "execution_count": null,
      "outputs": []
    },
    {
      "cell_type": "code",
      "metadata": {
        "id": "jIIG-689BKPy",
        "colab": {
          "base_uri": "https://localhost:8080/",
          "height": 334
        },
        "outputId": "1fa545bb-ded3-481d-b570-78872af4921e"
      },
      "source": [
        "import seaborn as sb\n",
        "sb.heatmap(df.corr(), cmap=\"YlGnBu\", annot=True)\n"
      ],
      "execution_count": 48,
      "outputs": [
        {
          "output_type": "execute_result",
          "data": {
            "text/plain": [
              "<matplotlib.axes._subplots.AxesSubplot at 0x7f0e6ae57f10>"
            ]
          },
          "metadata": {
            "tags": []
          },
          "execution_count": 48
        },
        {
          "output_type": "display_data",
          "data": {
            "image/png": "[encoded data removed]",
            "text/plain": [
              "<Figure size 432x288 with 2 Axes>"
            ]
          },
          "metadata": {
            "tags": [],
            "needs_background": "light"
          }
        }
      ]
    },
    {
      "cell_type": "code",
      "metadata": {
        "colab": {
          "base_uri": "https://localhost:8080/",
          "height": 329
        },
        "id": "durUcVK6CMpW",
        "outputId": "7a96085c-091f-4849-d8ac-1ab3fd44d845"
      },
      "source": [
        "for column in df1:\n",
        "    plt.figure()\n",
        "    df.line([column])"
      ],
      "execution_count": 49,
      "outputs": [
        {
          "output_type": "error",
          "ename": "AttributeError",
          "evalue": "ignored",
          "traceback": [
            "\u001b[0;31m---------------------------------------------------------------------------\u001b[0m",
            "\u001b[0;31mAttributeError\u001b[0m                            Traceback (most recent call last)",
            "\u001b[0;32m<ipython-input-49-c7eb7f7cbbff>\u001b[0m in \u001b[0;36m<module>\u001b[0;34m()\u001b[0m\n\u001b[1;32m      1\u001b[0m \u001b[0;32mfor\u001b[0m \u001b[0mcolumn\u001b[0m \u001b[0;32min\u001b[0m \u001b[0mdf1\u001b[0m\u001b[0;34m:\u001b[0m\u001b[0;34m\u001b[0m\u001b[0;34m\u001b[0m\u001b[0m\n\u001b[1;32m      2\u001b[0m     \u001b[0mplt\u001b[0m\u001b[0;34m.\u001b[0m\u001b[0mfigure\u001b[0m\u001b[0;34m(\u001b[0m\u001b[0;34m)\u001b[0m\u001b[0;34m\u001b[0m\u001b[0;34m\u001b[0m\u001b[0m\n\u001b[0;32m----> 3\u001b[0;31m     \u001b[0mdf\u001b[0m\u001b[0;34m.\u001b[0m\u001b[0mline\u001b[0m\u001b[0;34m(\u001b[0m\u001b[0;34m[\u001b[0m\u001b[0mcolumn\u001b[0m\u001b[0;34m]\u001b[0m\u001b[0;34m)\u001b[0m\u001b[0;34m\u001b[0m\u001b[0;34m\u001b[0m\u001b[0m\n\u001b[0m",
            "\u001b[0;32m/usr/local/lib/python3.7/dist-packages/pandas/core/generic.py\u001b[0m in \u001b[0;36m__getattr__\u001b[0;34m(self, name)\u001b[0m\n\u001b[1;32m   5139\u001b[0m             \u001b[0;32mif\u001b[0m \u001b[0mself\u001b[0m\u001b[0;34m.\u001b[0m\u001b[0m_info_axis\u001b[0m\u001b[0;34m.\u001b[0m\u001b[0m_can_hold_identifiers_and_holds_name\u001b[0m\u001b[0;34m(\u001b[0m\u001b[0mname\u001b[0m\u001b[0;34m)\u001b[0m\u001b[0;34m:\u001b[0m\u001b[0;34m\u001b[0m\u001b[0;34m\u001b[0m\u001b[0m\n\u001b[1;32m   5140\u001b[0m                 \u001b[0;32mreturn\u001b[0m \u001b[0mself\u001b[0m\u001b[0;34m[\u001b[0m\u001b[0mname\u001b[0m\u001b[0;34m]\u001b[0m\u001b[0;34m\u001b[0m\u001b[0;34m\u001b[0m\u001b[0m\n\u001b[0;32m-> 5141\u001b[0;31m             \u001b[0;32mreturn\u001b[0m \u001b[0mobject\u001b[0m\u001b[0;34m.\u001b[0m\u001b[0m__getattribute__\u001b[0m\u001b[0;34m(\u001b[0m\u001b[0mself\u001b[0m\u001b[0;34m,\u001b[0m \u001b[0mname\u001b[0m\u001b[0;34m)\u001b[0m\u001b[0;34m\u001b[0m\u001b[0;34m\u001b[0m\u001b[0m\n\u001b[0m\u001b[1;32m   5142\u001b[0m \u001b[0;34m\u001b[0m\u001b[0m\n\u001b[1;32m   5143\u001b[0m     \u001b[0;32mdef\u001b[0m \u001b[0m__setattr__\u001b[0m\u001b[0;34m(\u001b[0m\u001b[0mself\u001b[0m\u001b[0;34m,\u001b[0m \u001b[0mname\u001b[0m\u001b[0;34m:\u001b[0m \u001b[0mstr\u001b[0m\u001b[0;34m,\u001b[0m \u001b[0mvalue\u001b[0m\u001b[0;34m)\u001b[0m \u001b[0;34m->\u001b[0m \u001b[0;32mNone\u001b[0m\u001b[0;34m:\u001b[0m\u001b[0;34m\u001b[0m\u001b[0;34m\u001b[0m\u001b[0m\n",
            "\u001b[0;31mAttributeError\u001b[0m: 'DataFrame' object has no attribute 'line'"
          ]
        },
        {
          "output_type": "display_data",
          "data": {
            "text/plain": [
              "<Figure size 432x288 with 0 Axes>"
            ]
          },
          "metadata": {
            "tags": []
          }
        }
      ]
    },
    {
      "cell_type": "code",
      "metadata": {
        "id": "dNisBfwBIFpR",
        "colab": {
          "base_uri": "https://localhost:8080/"
        },
        "outputId": "7e836504-6579-475e-ea83-9cfab3a2910a"
      },
      "source": [
        "df[\"Description\"].value_counts()"
      ],
      "execution_count": 55,
      "outputs": [
        {
          "output_type": "execute_result",
          "data": {
            "text/plain": [
              "WHITE HANGING HEART T-LIGHT HOLDER     1441\n",
              "REGENCY CAKESTAND 3 TIER               1245\n",
              "JUMBO BAG RED RETROSPOT                1173\n",
              "PARTY BUNTING                          1135\n",
              "LUNCH BAG RED RETROSPOT                 908\n",
              "                                       ... \n",
              "GLASS BELL JAR LARGE                      1\n",
              "CREAM CLIMBING HYDRANGA ART FLOWER        1\n",
              "SILICON CUBE 25W, BLUE                    1\n",
              "T-LIGHT HOLDER SILVER SAUCER              1\n",
              "incorrectly credited C550456 see 47       1\n",
              "Name: Description, Length: 3611, dtype: int64"
            ]
          },
          "metadata": {
            "tags": []
          },
          "execution_count": 55
        }
      ]
    },
    {
      "cell_type": "code",
      "metadata": {
        "colab": {
          "base_uri": "https://localhost:8080/"
        },
        "id": "amBO7DYcMgpC",
        "outputId": "804c8a65-9e1c-43a8-f4b1-5578db6718e5"
      },
      "source": [
        "df.isnull().sum()"
      ],
      "execution_count": 56,
      "outputs": [
        {
          "output_type": "execute_result",
          "data": {
            "text/plain": [
              "InvoiceNo      0\n",
              "StockCode      0\n",
              "Description    0\n",
              "Quantity       0\n",
              "InvoiceDate    0\n",
              "UnitPrice      0\n",
              "CustomerID     0\n",
              "Country        0\n",
              "Hour           0\n",
              "Month          0\n",
              "Day            0\n",
              "dtype: int64"
            ]
          },
          "metadata": {
            "tags": []
          },
          "execution_count": 56
        }
      ]
    },
    {
      "cell_type": "code",
      "metadata": {
        "colab": {
          "base_uri": "https://localhost:8080/",
          "height": 161
        },
        "id": "tQpmn-8KMnrF",
        "outputId": "41e324e5-4f26-4288-b5b5-74b2e766591a"
      },
      "source": [
        "df[\"CustomerID\"].fillna(df[\"CustomerID\"].median()[0],inplace=True)"
      ],
      "execution_count": 57,
      "outputs": [
        {
          "output_type": "error",
          "ename": "TypeError",
          "evalue": "ignored",
          "traceback": [
            "\u001b[0;31m---------------------------------------------------------------------------\u001b[0m",
            "\u001b[0;31mTypeError\u001b[0m                                 Traceback (most recent call last)",
            "\u001b[0;32m<ipython-input-57-511fe6c51ae8>\u001b[0m in \u001b[0;36m<module>\u001b[0;34m()\u001b[0m\n\u001b[0;32m----> 1\u001b[0;31m \u001b[0mdf\u001b[0m\u001b[0;34m[\u001b[0m\u001b[0;34m\"CustomerID\"\u001b[0m\u001b[0;34m]\u001b[0m\u001b[0;34m.\u001b[0m\u001b[0mfillna\u001b[0m\u001b[0;34m(\u001b[0m\u001b[0mdf\u001b[0m\u001b[0;34m[\u001b[0m\u001b[0;34m\"CustomerID\"\u001b[0m\u001b[0;34m]\u001b[0m\u001b[0;34m.\u001b[0m\u001b[0mmedian\u001b[0m\u001b[0;34m(\u001b[0m\u001b[0;34m)\u001b[0m\u001b[0;34m[\u001b[0m\u001b[0;36m0\u001b[0m\u001b[0;34m]\u001b[0m\u001b[0;34m,\u001b[0m\u001b[0minplace\u001b[0m\u001b[0;34m=\u001b[0m\u001b[0;32mTrue\u001b[0m\u001b[0;34m)\u001b[0m\u001b[0;34m\u001b[0m\u001b[0;34m\u001b[0m\u001b[0m\n\u001b[0m",
            "\u001b[0;31mTypeError\u001b[0m: 'float' object is not subscriptable"
          ]
        }
      ]
    },
    {
      "cell_type": "code",
      "metadata": {
        "colab": {
          "base_uri": "https://localhost:8080/"
        },
        "id": "mMybm42GMwuE",
        "outputId": "83585abf-1478-4dee-8a2a-fef4cf789de8"
      },
      "source": [
        "df.shape"
      ],
      "execution_count": 60,
      "outputs": [
        {
          "output_type": "execute_result",
          "data": {
            "text/plain": [
              "(267715, 11)"
            ]
          },
          "metadata": {
            "tags": []
          },
          "execution_count": 60
        }
      ]
    },
    {
      "cell_type": "code",
      "metadata": {
        "colab": {
          "base_uri": "https://localhost:8080/"
        },
        "id": "H2Mu3qOzM7tu",
        "outputId": "44813e96-c497-44c3-ee09-0cd953b9112c"
      },
      "source": [
        "df[\"CustomerID\"]"
      ],
      "execution_count": 61,
      "outputs": [
        {
          "output_type": "execute_result",
          "data": {
            "text/plain": [
              "0         17850.0\n",
              "1         17850.0\n",
              "2         17850.0\n",
              "3         17850.0\n",
              "4         17850.0\n",
              "           ...   \n",
              "276169    15506.0\n",
              "276170    15506.0\n",
              "276171    15506.0\n",
              "276172    15506.0\n",
              "276173    15506.0\n",
              "Name: CustomerID, Length: 267715, dtype: float64"
            ]
          },
          "metadata": {
            "tags": []
          },
          "execution_count": 61
        }
      ]
    },
    {
      "cell_type": "code",
      "metadata": {
        "colab": {
          "base_uri": "https://localhost:8080/"
        },
        "id": "DbtDrrOHNE2g",
        "outputId": "ce77f13e-2bbd-4824-ee6b-71f462f32498"
      },
      "source": [
        "df['CustomerID'].median()"
      ],
      "execution_count": 62,
      "outputs": [
        {
          "output_type": "execute_result",
          "data": {
            "text/plain": [
              "15152.0"
            ]
          },
          "metadata": {
            "tags": []
          },
          "execution_count": 62
        }
      ]
    },
    {
      "cell_type": "code",
      "metadata": {
        "colab": {
          "base_uri": "https://localhost:8080/",
          "height": 47
        },
        "id": "g7Pf0tqeNwpi",
        "outputId": "c32768e1-cb79-4bc9-b38c-cbb4cb12b36d"
      },
      "source": [
        "df[df.isnull().any(axis=1)]\n"
      ],
      "execution_count": 63,
      "outputs": [
        {
          "output_type": "execute_result",
          "data": {
            "text/html": [
              "<div>\n",
              "<style scoped>\n",
              "    .dataframe tbody tr th:only-of-type {\n",
              "        vertical-align: middle;\n",
              "    }\n",
              "\n",
              "    .dataframe tbody tr th {\n",
              "        vertical-align: top;\n",
              "    }\n",
              "\n",
              "    .dataframe thead th {\n",
              "        text-align: right;\n",
              "    }\n",
              "</style>\n",
              "<table border=\"1\" class=\"dataframe\">\n",
              "  <thead>\n",
              "    <tr style=\"text-align: right;\">\n",
              "      <th></th>\n",
              "      <th>InvoiceNo</th>\n",
              "      <th>StockCode</th>\n",
              "      <th>Description</th>\n",
              "      <th>Quantity</th>\n",
              "      <th>InvoiceDate</th>\n",
              "      <th>UnitPrice</th>\n",
              "      <th>CustomerID</th>\n",
              "      <th>Country</th>\n",
              "      <th>Hour</th>\n",
              "      <th>Month</th>\n",
              "      <th>Day</th>\n",
              "    </tr>\n",
              "  </thead>\n",
              "  <tbody>\n",
              "  </tbody>\n",
              "</table>\n",
              "</div>"
            ],
            "text/plain": [
              "Empty DataFrame\n",
              "Columns: [InvoiceNo, StockCode, Description, Quantity, InvoiceDate, UnitPrice, CustomerID, Country, Hour, Month, Day]\n",
              "Index: []"
            ]
          },
          "metadata": {
            "tags": []
          },
          "execution_count": 63
        }
      ]
    },
    {
      "cell_type": "code",
      "metadata": {
        "colab": {
          "base_uri": "https://localhost:8080/"
        },
        "id": "_WOSfWR2OOy0",
        "outputId": "7e3a3df0-d40b-46fe-a184-c8e42638bc2a"
      },
      "source": [
        "df.isnull().sum()"
      ],
      "execution_count": 64,
      "outputs": [
        {
          "output_type": "execute_result",
          "data": {
            "text/plain": [
              "InvoiceNo      0\n",
              "StockCode      0\n",
              "Description    0\n",
              "Quantity       0\n",
              "InvoiceDate    0\n",
              "UnitPrice      0\n",
              "CustomerID     0\n",
              "Country        0\n",
              "Hour           0\n",
              "Month          0\n",
              "Day            0\n",
              "dtype: int64"
            ]
          },
          "metadata": {
            "tags": []
          },
          "execution_count": 64
        }
      ]
    },
    {
      "cell_type": "code",
      "metadata": {
        "id": "TRGfrzJEPtXF",
        "colab": {
          "base_uri": "https://localhost:8080/"
        },
        "outputId": "bb0d9f44-014e-4b06-8454-f5802b84f045"
      },
      "source": [
        "Skew=df1.skew(axis = 0)"
      ],
      "execution_count": 72,
      "outputs": [
        {
          "output_type": "execute_result",
          "data": {
            "text/plain": [
              "Quantity      461.176725\n",
              "UnitPrice     246.226408\n",
              "CustomerID      0.116031\n",
              "Hour            0.036159\n",
              "Month           0.836653\n",
              "Day             0.191521\n",
              "dtype: float64"
            ]
          },
          "metadata": {
            "tags": []
          },
          "execution_count": 72
        }
      ]
    },
    {
      "cell_type": "code",
      "metadata": {
        "colab": {
          "base_uri": "https://localhost:8080/",
          "height": 404
        },
        "id": "XAwK_Zi0uOBC",
        "outputId": "77c4e632-2b05-4082-a185-102ca99e0278"
      },
      "source": [
        "df1"
      ],
      "execution_count": 80,
      "outputs": [
        {
          "output_type": "execute_result",
          "data": {
            "text/html": [
              "<div>\n",
              "<style scoped>\n",
              "    .dataframe tbody tr th:only-of-type {\n",
              "        vertical-align: middle;\n",
              "    }\n",
              "\n",
              "    .dataframe tbody tr th {\n",
              "        vertical-align: top;\n",
              "    }\n",
              "\n",
              "    .dataframe thead th {\n",
              "        text-align: right;\n",
              "    }\n",
              "</style>\n",
              "<table border=\"1\" class=\"dataframe\">\n",
              "  <thead>\n",
              "    <tr style=\"text-align: right;\">\n",
              "      <th></th>\n",
              "      <th>Quantity</th>\n",
              "      <th>UnitPrice</th>\n",
              "      <th>CustomerID</th>\n",
              "      <th>Hour</th>\n",
              "      <th>Month</th>\n",
              "      <th>Day</th>\n",
              "    </tr>\n",
              "  </thead>\n",
              "  <tbody>\n",
              "    <tr>\n",
              "      <th>0</th>\n",
              "      <td>6.0</td>\n",
              "      <td>2.55</td>\n",
              "      <td>17850.0</td>\n",
              "      <td>8</td>\n",
              "      <td>12</td>\n",
              "      <td>1</td>\n",
              "    </tr>\n",
              "    <tr>\n",
              "      <th>1</th>\n",
              "      <td>6.0</td>\n",
              "      <td>3.39</td>\n",
              "      <td>17850.0</td>\n",
              "      <td>8</td>\n",
              "      <td>12</td>\n",
              "      <td>1</td>\n",
              "    </tr>\n",
              "    <tr>\n",
              "      <th>2</th>\n",
              "      <td>8.0</td>\n",
              "      <td>2.75</td>\n",
              "      <td>17850.0</td>\n",
              "      <td>8</td>\n",
              "      <td>12</td>\n",
              "      <td>1</td>\n",
              "    </tr>\n",
              "    <tr>\n",
              "      <th>3</th>\n",
              "      <td>6.0</td>\n",
              "      <td>3.39</td>\n",
              "      <td>17850.0</td>\n",
              "      <td>8</td>\n",
              "      <td>12</td>\n",
              "      <td>1</td>\n",
              "    </tr>\n",
              "    <tr>\n",
              "      <th>4</th>\n",
              "      <td>6.0</td>\n",
              "      <td>3.39</td>\n",
              "      <td>17850.0</td>\n",
              "      <td>8</td>\n",
              "      <td>12</td>\n",
              "      <td>1</td>\n",
              "    </tr>\n",
              "    <tr>\n",
              "      <th>...</th>\n",
              "      <td>...</td>\n",
              "      <td>...</td>\n",
              "      <td>...</td>\n",
              "      <td>...</td>\n",
              "      <td>...</td>\n",
              "      <td>...</td>\n",
              "    </tr>\n",
              "    <tr>\n",
              "      <th>276169</th>\n",
              "      <td>1.0</td>\n",
              "      <td>1.65</td>\n",
              "      <td>15506.0</td>\n",
              "      <td>11</td>\n",
              "      <td>7</td>\n",
              "      <td>24</td>\n",
              "    </tr>\n",
              "    <tr>\n",
              "      <th>276170</th>\n",
              "      <td>4.0</td>\n",
              "      <td>0.29</td>\n",
              "      <td>15506.0</td>\n",
              "      <td>11</td>\n",
              "      <td>7</td>\n",
              "      <td>24</td>\n",
              "    </tr>\n",
              "    <tr>\n",
              "      <th>276171</th>\n",
              "      <td>1.0</td>\n",
              "      <td>0.29</td>\n",
              "      <td>15506.0</td>\n",
              "      <td>11</td>\n",
              "      <td>7</td>\n",
              "      <td>24</td>\n",
              "    </tr>\n",
              "    <tr>\n",
              "      <th>276172</th>\n",
              "      <td>2.0</td>\n",
              "      <td>0.29</td>\n",
              "      <td>15506.0</td>\n",
              "      <td>11</td>\n",
              "      <td>7</td>\n",
              "      <td>24</td>\n",
              "    </tr>\n",
              "    <tr>\n",
              "      <th>276173</th>\n",
              "      <td>4.0</td>\n",
              "      <td>0.29</td>\n",
              "      <td>15506.0</td>\n",
              "      <td>11</td>\n",
              "      <td>7</td>\n",
              "      <td>24</td>\n",
              "    </tr>\n",
              "  </tbody>\n",
              "</table>\n",
              "<p>267715 rows × 6 columns</p>\n",
              "</div>"
            ],
            "text/plain": [
              "        Quantity  UnitPrice  CustomerID  Hour  Month  Day\n",
              "0            6.0       2.55     17850.0     8     12    1\n",
              "1            6.0       3.39     17850.0     8     12    1\n",
              "2            8.0       2.75     17850.0     8     12    1\n",
              "3            6.0       3.39     17850.0     8     12    1\n",
              "4            6.0       3.39     17850.0     8     12    1\n",
              "...          ...        ...         ...   ...    ...  ...\n",
              "276169       1.0       1.65     15506.0    11      7   24\n",
              "276170       4.0       0.29     15506.0    11      7   24\n",
              "276171       1.0       0.29     15506.0    11      7   24\n",
              "276172       2.0       0.29     15506.0    11      7   24\n",
              "276173       4.0       0.29     15506.0    11      7   24\n",
              "\n",
              "[267715 rows x 6 columns]"
            ]
          },
          "metadata": {
            "tags": []
          },
          "execution_count": 80
        }
      ]
    },
    {
      "cell_type": "code",
      "metadata": {
        "id": "OnB66R1Mt4Z1"
      },
      "source": [
        "num=['Quantity','UnitPrice','CustomerID','Hour','Day']"
      ],
      "execution_count": null,
      "outputs": []
    },
    {
      "cell_type": "code",
      "metadata": {
        "colab": {
          "base_uri": "https://localhost:8080/",
          "height": 296
        },
        "id": "TD-JA80Ayuu6",
        "outputId": "fb2023d7-e42e-473b-d538-8d7876a92d9f"
      },
      "source": [
        "sns.lineplot(data=df1, x=\"Quantity\", y=\"UnitPrice\")"
      ],
      "execution_count": 97,
      "outputs": [
        {
          "output_type": "execute_result",
          "data": {
            "text/plain": [
              "<matplotlib.axes._subplots.AxesSubplot at 0x7f0d49811b90>"
            ]
          },
          "metadata": {
            "tags": []
          },
          "execution_count": 97
        },
        {
          "output_type": "display_data",
          "data": {
            "image/png": "[encoded data removed]",
            "text/plain": [
              "<Figure size 432x288 with 1 Axes>"
            ]
          },
          "metadata": {
            "tags": [],
            "needs_background": "light"
          }
        }
      ]
    },
    {
      "cell_type": "code",
      "metadata": {
        "colab": {
          "base_uri": "https://localhost:8080/",
          "height": 296
        },
        "id": "Ijr9TtOt00QW",
        "outputId": "84b82f24-de4f-40e1-e8c4-7cb93972f7a5"
      },
      "source": [
        "sns.lineplot(data=df1, x=\"Hour\", y=\"Quantity\")"
      ],
      "execution_count": 100,
      "outputs": [
        {
          "output_type": "execute_result",
          "data": {
            "text/plain": [
              "<matplotlib.axes._subplots.AxesSubplot at 0x7f0d49635d90>"
            ]
          },
          "metadata": {
            "tags": []
          },
          "execution_count": 100
        },
        {
          "output_type": "display_data",
          "data": {
            "image/png": "[encoded data removed]",
            "text/plain": [
              "<Figure size 432x288 with 1 Axes>"
            ]
          },
          "metadata": {
            "tags": [],
            "needs_background": "light"
          }
        }
      ]
    },
    {
      "cell_type": "code",
      "metadata": {
        "colab": {
          "base_uri": "https://localhost:8080/",
          "height": 296
        },
        "id": "cwIc5hxy1ImQ",
        "outputId": "7af69ad5-9456-4f2d-91d1-d5d23426c0a0"
      },
      "source": [
        "sns.lineplot(data=df1, x=\"Day\", y=\"Quantity\")"
      ],
      "execution_count": 102,
      "outputs": [
        {
          "output_type": "execute_result",
          "data": {
            "text/plain": [
              "<matplotlib.axes._subplots.AxesSubplot at 0x7f0d4909cf50>"
            ]
          },
          "metadata": {
            "tags": []
          },
          "execution_count": 102
        },
        {
          "output_type": "display_data",
          "data": {
            "image/png": "[encoded data removed]",
            "text/plain": [
              "<Figure size 432x288 with 1 Axes>"
            ]
          },
          "metadata": {
            "tags": [],
            "needs_background": "light"
          }
        }
      ]
    },
    {
      "cell_type": "markdown",
      "metadata": {
        "id": "qDkUX5Uy1_uw"
      },
      "source": [
        "##Plot the skewness - All Numeric Variables "
      ]
    },
    {
      "cell_type": "code",
      "metadata": {
        "colab": {
          "base_uri": "https://localhost:8080/",
          "height": 404
        },
        "id": "-wg91vr82Kiw",
        "outputId": "dc6737b7-4714-49bf-8e50-632c2a628b67"
      },
      "source": [
        "df1"
      ],
      "execution_count": 103,
      "outputs": [
        {
          "output_type": "execute_result",
          "data": {
            "text/html": [
              "<div>\n",
              "<style scoped>\n",
              "    .dataframe tbody tr th:only-of-type {\n",
              "        vertical-align: middle;\n",
              "    }\n",
              "\n",
              "    .dataframe tbody tr th {\n",
              "        vertical-align: top;\n",
              "    }\n",
              "\n",
              "    .dataframe thead th {\n",
              "        text-align: right;\n",
              "    }\n",
              "</style>\n",
              "<table border=\"1\" class=\"dataframe\">\n",
              "  <thead>\n",
              "    <tr style=\"text-align: right;\">\n",
              "      <th></th>\n",
              "      <th>Quantity</th>\n",
              "      <th>UnitPrice</th>\n",
              "      <th>CustomerID</th>\n",
              "      <th>Hour</th>\n",
              "      <th>Month</th>\n",
              "      <th>Day</th>\n",
              "    </tr>\n",
              "  </thead>\n",
              "  <tbody>\n",
              "    <tr>\n",
              "      <th>0</th>\n",
              "      <td>6.0</td>\n",
              "      <td>2.55</td>\n",
              "      <td>17850.0</td>\n",
              "      <td>8</td>\n",
              "      <td>12</td>\n",
              "      <td>1</td>\n",
              "    </tr>\n",
              "    <tr>\n",
              "      <th>1</th>\n",
              "      <td>6.0</td>\n",
              "      <td>3.39</td>\n",
              "      <td>17850.0</td>\n",
              "      <td>8</td>\n",
              "      <td>12</td>\n",
              "      <td>1</td>\n",
              "    </tr>\n",
              "    <tr>\n",
              "      <th>2</th>\n",
              "      <td>8.0</td>\n",
              "      <td>2.75</td>\n",
              "      <td>17850.0</td>\n",
              "      <td>8</td>\n",
              "      <td>12</td>\n",
              "      <td>1</td>\n",
              "    </tr>\n",
              "    <tr>\n",
              "      <th>3</th>\n",
              "      <td>6.0</td>\n",
              "      <td>3.39</td>\n",
              "      <td>17850.0</td>\n",
              "      <td>8</td>\n",
              "      <td>12</td>\n",
              "      <td>1</td>\n",
              "    </tr>\n",
              "    <tr>\n",
              "      <th>4</th>\n",
              "      <td>6.0</td>\n",
              "      <td>3.39</td>\n",
              "      <td>17850.0</td>\n",
              "      <td>8</td>\n",
              "      <td>12</td>\n",
              "      <td>1</td>\n",
              "    </tr>\n",
              "    <tr>\n",
              "      <th>...</th>\n",
              "      <td>...</td>\n",
              "      <td>...</td>\n",
              "      <td>...</td>\n",
              "      <td>...</td>\n",
              "      <td>...</td>\n",
              "      <td>...</td>\n",
              "    </tr>\n",
              "    <tr>\n",
              "      <th>276169</th>\n",
              "      <td>1.0</td>\n",
              "      <td>1.65</td>\n",
              "      <td>15506.0</td>\n",
              "      <td>11</td>\n",
              "      <td>7</td>\n",
              "      <td>24</td>\n",
              "    </tr>\n",
              "    <tr>\n",
              "      <th>276170</th>\n",
              "      <td>4.0</td>\n",
              "      <td>0.29</td>\n",
              "      <td>15506.0</td>\n",
              "      <td>11</td>\n",
              "      <td>7</td>\n",
              "      <td>24</td>\n",
              "    </tr>\n",
              "    <tr>\n",
              "      <th>276171</th>\n",
              "      <td>1.0</td>\n",
              "      <td>0.29</td>\n",
              "      <td>15506.0</td>\n",
              "      <td>11</td>\n",
              "      <td>7</td>\n",
              "      <td>24</td>\n",
              "    </tr>\n",
              "    <tr>\n",
              "      <th>276172</th>\n",
              "      <td>2.0</td>\n",
              "      <td>0.29</td>\n",
              "      <td>15506.0</td>\n",
              "      <td>11</td>\n",
              "      <td>7</td>\n",
              "      <td>24</td>\n",
              "    </tr>\n",
              "    <tr>\n",
              "      <th>276173</th>\n",
              "      <td>4.0</td>\n",
              "      <td>0.29</td>\n",
              "      <td>15506.0</td>\n",
              "      <td>11</td>\n",
              "      <td>7</td>\n",
              "      <td>24</td>\n",
              "    </tr>\n",
              "  </tbody>\n",
              "</table>\n",
              "<p>267715 rows × 6 columns</p>\n",
              "</div>"
            ],
            "text/plain": [
              "        Quantity  UnitPrice  CustomerID  Hour  Month  Day\n",
              "0            6.0       2.55     17850.0     8     12    1\n",
              "1            6.0       3.39     17850.0     8     12    1\n",
              "2            8.0       2.75     17850.0     8     12    1\n",
              "3            6.0       3.39     17850.0     8     12    1\n",
              "4            6.0       3.39     17850.0     8     12    1\n",
              "...          ...        ...         ...   ...    ...  ...\n",
              "276169       1.0       1.65     15506.0    11      7   24\n",
              "276170       4.0       0.29     15506.0    11      7   24\n",
              "276171       1.0       0.29     15506.0    11      7   24\n",
              "276172       2.0       0.29     15506.0    11      7   24\n",
              "276173       4.0       0.29     15506.0    11      7   24\n",
              "\n",
              "[267715 rows x 6 columns]"
            ]
          },
          "metadata": {
            "tags": []
          },
          "execution_count": 103
        }
      ]
    },
    {
      "cell_type": "code",
      "metadata": {
        "colab": {
          "base_uri": "https://localhost:8080/",
          "height": 385
        },
        "id": "LwYRPOFy1ZfJ",
        "outputId": "7868aaed-65ea-47e8-f469-f5d1e1bd3f55"
      },
      "source": [
        "sns.displot(df1, x=\"Quantity\", kind=\"kde\", bw_adjust=2)"
      ],
      "execution_count": 105,
      "outputs": [
        {
          "output_type": "execute_result",
          "data": {
            "text/plain": [
              "<seaborn.axisgrid.FacetGrid at 0x7f0d48fc6310>"
            ]
          },
          "metadata": {
            "tags": []
          },
          "execution_count": 105
        },
        {
          "output_type": "display_data",
          "data": {
            "image/png": "[encoded data removed]",
            "text/plain": [
              "<Figure size 360x360 with 1 Axes>"
            ]
          },
          "metadata": {
            "tags": [],
            "needs_background": "light"
          }
        }
      ]
    },
    {
      "cell_type": "code",
      "metadata": {
        "colab": {
          "base_uri": "https://localhost:8080/",
          "height": 385
        },
        "id": "yZKyGXyM2PPP",
        "outputId": "64b12cc2-a03e-47e0-ae2d-4f407c9cfbbc"
      },
      "source": [
        "sns.displot(df1, x=\"Hour\", kind=\"kde\", bw_adjust=2)"
      ],
      "execution_count": 106,
      "outputs": [
        {
          "output_type": "execute_result",
          "data": {
            "text/plain": [
              "<seaborn.axisgrid.FacetGrid at 0x7f0d48f35d10>"
            ]
          },
          "metadata": {
            "tags": []
          },
          "execution_count": 106
        },
        {
          "output_type": "display_data",
          "data": {
            "image/png": "[encoded data removed]",
            "text/plain": [
              "<Figure size 360x360 with 1 Axes>"
            ]
          },
          "metadata": {
            "tags": [],
            "needs_background": "light"
          }
        }
      ]
    },
    {
      "cell_type": "code",
      "metadata": {
        "colab": {
          "base_uri": "https://localhost:8080/",
          "height": 385
        },
        "id": "afiaSuhe2bsm",
        "outputId": "aeab59f4-dd03-4d8f-cab5-eac76fef7e83"
      },
      "source": [
        "\n",
        "sns.displot(df1, x=\"Day\", kind=\"kde\", bw_adjust=2)"
      ],
      "execution_count": 110,
      "outputs": [
        {
          "output_type": "execute_result",
          "data": {
            "text/plain": [
              "<seaborn.axisgrid.FacetGrid at 0x7f0d48ded250>"
            ]
          },
          "metadata": {
            "tags": []
          },
          "execution_count": 110
        },
        {
          "output_type": "display_data",
          "data": {
            "image/png": "[encoded data removed]",
            "text/plain": [
              "<Figure size 360x360 with 1 Axes>"
            ]
          },
          "metadata": {
            "tags": [],
            "needs_background": "light"
          }
        }
      ]
    },
    {
      "cell_type": "code",
      "metadata": {
        "colab": {
          "base_uri": "https://localhost:8080/",
          "height": 385
        },
        "id": "G_0rwNyI2ot-",
        "outputId": "04dea964-5cc9-4111-a63f-c23c78ba7b87"
      },
      "source": [
        "\n",
        "sns.displot(df1, x=\"CustomerID\", kind=\"kde\", bw_adjust=2)"
      ],
      "execution_count": 111,
      "outputs": [
        {
          "output_type": "execute_result",
          "data": {
            "text/plain": [
              "<seaborn.axisgrid.FacetGrid at 0x7f0d48df3190>"
            ]
          },
          "metadata": {
            "tags": []
          },
          "execution_count": 111
        },
        {
          "output_type": "display_data",
          "data": {
            "image/png": "[encoded data removed]",
            "text/plain": [
              "<Figure size 360x360 with 1 Axes>"
            ]
          },
          "metadata": {
            "tags": [],
            "needs_background": "light"
          }
        }
      ]
    },
    {
      "cell_type": "code",
      "metadata": {
        "colab": {
          "base_uri": "https://localhost:8080/",
          "height": 385
        },
        "id": "EzVE_pxy2y0y",
        "outputId": "0f0ace6b-dd37-490a-be63-9080b7f7e7cb"
      },
      "source": [
        "\n",
        "sns.displot(df1, x=\"Month\", kind=\"kde\", bw_adjust=2)"
      ],
      "execution_count": 112,
      "outputs": [
        {
          "output_type": "execute_result",
          "data": {
            "text/plain": [
              "<seaborn.axisgrid.FacetGrid at 0x7f0d48c74f10>"
            ]
          },
          "metadata": {
            "tags": []
          },
          "execution_count": 112
        },
        {
          "output_type": "display_data",
          "data": {
            "image/png": "[encoded data removed]",
            "text/plain": [
              "<Figure size 360x360 with 1 Axes>"
            ]
          },
          "metadata": {
            "tags": [],
            "needs_background": "light"
          }
        }
      ]
    },
    {
      "cell_type": "code",
      "metadata": {
        "colab": {
          "base_uri": "https://localhost:8080/",
          "height": 296
        },
        "id": "xiMVh87721cl",
        "outputId": "f49990a4-b6ef-441b-aff1-25ca2219fe66"
      },
      "source": [
        "sns.regplot(x=\"Quantity\", y=\"CustomerID\", data=df1)"
      ],
      "execution_count": 117,
      "outputs": [
        {
          "output_type": "execute_result",
          "data": {
            "text/plain": [
              "<matplotlib.axes._subplots.AxesSubplot at 0x7f0d48a8d510>"
            ]
          },
          "metadata": {
            "tags": []
          },
          "execution_count": 117
        },
        {
          "output_type": "display_data",
          "data": {
            "image/png": "[encoded data removed]",
            "text/plain": [
              "<Figure size 432x288 with 1 Axes>"
            ]
          },
          "metadata": {
            "tags": [],
            "needs_background": "light"
          }
        }
      ]
    },
    {
      "cell_type": "code",
      "metadata": {
        "colab": {
          "base_uri": "https://localhost:8080/",
          "height": 296
        },
        "id": "eGvfXQvj3OM9",
        "outputId": "2337b660-5094-4ddc-d566-18313a4df294"
      },
      "source": [
        "sns.regplot(x=\"Quantity\", y=\"Month\", data=df1)"
      ],
      "execution_count": 118,
      "outputs": [
        {
          "output_type": "execute_result",
          "data": {
            "text/plain": [
              "<matplotlib.axes._subplots.AxesSubplot at 0x7f0d489f9c90>"
            ]
          },
          "metadata": {
            "tags": []
          },
          "execution_count": 118
        },
        {
          "output_type": "display_data",
          "data": {
            "image/png": "[encoded data removed]",
            "text/plain": [
              "<Figure size 432x288 with 1 Axes>"
            ]
          },
          "metadata": {
            "tags": [],
            "needs_background": "light"
          }
        }
      ]
    },
    {
      "cell_type": "code",
      "metadata": {
        "id": "bljRw9S83qs-"
      },
      "source": [
        "sns.regplot(x=\"Quantity\", y=\"Day\", data=df1)"
      ],
      "execution_count": null,
      "outputs": []
    },
    {
      "cell_type": "code",
      "metadata": {
        "id": "YAqp45j23tUR"
      },
      "source": [
        "sns.regplot(x=\"Quantity\", y=\"Hour\", data=df1)"
      ],
      "execution_count": null,
      "outputs": []
    }
  ]
}